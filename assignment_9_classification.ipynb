{
 "cells": [
  {
   "cell_type": "code",
   "execution_count": 1,
   "metadata": {},
   "outputs": [],
   "source": [
    "import numpy as np\n",
    "import matplotlib.pyplot as plt"
   ]
  },
  {
   "cell_type": "code",
   "execution_count": 2,
   "metadata": {},
   "outputs": [],
   "source": [
    "X = np.load('assignment9_X.npy')  ## t x n training inputs, t inputs each with n points\n",
    "Y = np.load('assignment9_Y.npy')"
   ]
  },
  {
   "cell_type": "code",
   "execution_count": 3,
   "metadata": {},
   "outputs": [
    {
     "data": {
      "text/plain": [
       "((50, 10), (50,))"
      ]
     },
     "execution_count": 3,
     "metadata": {},
     "output_type": "execute_result"
    }
   ],
   "source": [
    "X = X.T\n",
    "X.shape, Y.shape"
   ]
  },
  {
   "cell_type": "code",
   "execution_count": 4,
   "metadata": {
    "scrolled": true
   },
   "outputs": [
    {
     "data": {
      "text/plain": [
       "array([10.61071551,  0.47568071,  1.2923249 ,  0.88336179, -0.53028124,\n",
       "        1.97829927,  1.10193059,  1.55633219,  1.1769877 , -0.82006401])"
      ]
     },
     "execution_count": 4,
     "metadata": {},
     "output_type": "execute_result"
    }
   ],
   "source": [
    "X[0]"
   ]
  },
  {
   "cell_type": "code",
   "execution_count": 5,
   "metadata": {},
   "outputs": [
    {
     "data": {
      "text/plain": [
       "array([0, 0, 0, 0, 0, 1, 1, 1, 1, 1, 2, 2, 2, 2, 2, 3, 3, 3, 3, 3, 4, 4,\n",
       "       4, 4, 4, 5, 5, 5, 5, 5, 6, 6, 6, 6, 6, 7, 7, 7, 7, 7, 8, 8, 8, 8,\n",
       "       8, 9, 9, 9, 9, 9], dtype=int32)"
      ]
     },
     "execution_count": 5,
     "metadata": {},
     "output_type": "execute_result"
    }
   ],
   "source": [
    "Y"
   ]
  },
  {
   "cell_type": "markdown",
   "metadata": {},
   "source": [
    "### variables"
   ]
  },
  {
   "cell_type": "code",
   "execution_count": 6,
   "metadata": {},
   "outputs": [],
   "source": [
    "t = 50\n",
    "n = 10\n",
    "\n",
    "k = 10 #number of classes\n",
    "\n",
    "delta = 1 #to set margin value\n",
    "\n",
    "steps = 500\n",
    "alpha = 0.01"
   ]
  },
  {
   "cell_type": "markdown",
   "metadata": {},
   "source": [
    "### functions"
   ]
  },
  {
   "cell_type": "code",
   "execution_count": 7,
   "metadata": {},
   "outputs": [],
   "source": [
    "def sum_L_gradients(W, X, Y):\n",
    "    all_matrices = []\n",
    "    for i in range(t):\n",
    "        matrix = np.zeros((k,n))\n",
    "        yi = Y[i]\n",
    "        \n",
    "        matrix[yi] = gradient_L(W, X, Y, i)\n",
    "        all_matrices.append(matrix)\n",
    "        \n",
    "    return sum(all_matrices)\n",
    "\n",
    "def gradient_L(W, X, Y, i):\n",
    "    s = 0\n",
    "    for j in range(n):\n",
    "        if j == Y[i]:\n",
    "            continue\n",
    "        if (W[j].dot(X[i]) - W[Y[i]].dot(X[i]) + delta) > 0:\n",
    "            term = 1\n",
    "        else:\n",
    "            term = 0\n",
    "        s += term\n",
    "    return -(s) * X[i]\n",
    "\n",
    "def loss(W, X, Y):\n",
    "    L = 0\n",
    "    for i in range(t):    ## example i\n",
    "        L_i = 0\n",
    "\n",
    "        for j in range(k):\n",
    "            Yi = Y[i]\n",
    "            if j == Yi:\n",
    "                continue\n",
    "            L_i += max(0, W[j].dot(X[i]) - W[Y[i]].dot(X[i]) - delta)\n",
    "\n",
    "        L += L_i\n",
    "    return L"
   ]
  },
  {
   "cell_type": "markdown",
   "metadata": {},
   "source": [
    "### run on data"
   ]
  },
  {
   "cell_type": "code",
   "execution_count": 8,
   "metadata": {},
   "outputs": [],
   "source": [
    "W = 0.1 * np.random.randn(10,10)\n",
    "#W = np.ones((10,10))"
   ]
  },
  {
   "cell_type": "code",
   "execution_count": 9,
   "metadata": {},
   "outputs": [],
   "source": [
    "steps_list = []\n",
    "loss_list = []\n",
    "\n",
    "for step in range(steps):\n",
    "    steps_list.append(step)\n",
    "    \n",
    "    W = W - alpha * sum_L_gradients(W, X, Y)\n",
    "    this_loss = loss(W, X, Y)\n",
    "    loss_list.append(this_loss)"
   ]
  },
  {
   "cell_type": "markdown",
   "metadata": {},
   "source": [
    "### plot of all 500 steps"
   ]
  },
  {
   "cell_type": "code",
   "execution_count": 10,
   "metadata": {},
   "outputs": [
    {
     "data": {
      "image/png": "[encoded data removed]",
      "text/plain": [
       "<Figure size 432x288 with 1 Axes>"
      ]
     },
     "metadata": {},
     "output_type": "display_data"
    }
   ],
   "source": [
    "plt.plot(steps_list,loss_list)\n",
    "plt.show()"
   ]
  },
  {
   "cell_type": "markdown",
   "metadata": {},
   "source": [
    "### plot of steps until loss of 0"
   ]
  },
  {
   "cell_type": "code",
   "execution_count": 11,
   "metadata": {},
   "outputs": [
    {
     "data": {
      "image/png": "[encoded data removed]",
      "text/plain": [
       "<Figure size 432x288 with 1 Axes>"
      ]
     },
     "metadata": {},
     "output_type": "display_data"
    }
   ],
   "source": [
    "loss_list = [x for x in loss_list if x > 0]\n",
    "steps_list = steps_list[:len(loss_list)]\n",
    "\n",
    "plt.plot(steps_list,loss_list)\n",
    "plt.show()"
   ]
  },
  {
   "cell_type": "code",
   "execution_count": null,
   "metadata": {},
   "outputs": [],
   "source": []
  }
 ],
 "metadata": {
  "kernelspec": {
   "display_name": "Python 3",
   "language": "python",
   "name": "python3"
  },
  "language_info": {
   "codemirror_mode": {
    "name": "ipython",
    "version": 3
   },
   "file_extension": ".py",
   "mimetype": "text/x-python",
   "name": "python",
   "nbconvert_exporter": "python",
   "pygments_lexer": "ipython3",
   "version": "3.6.5"
  }
 },
 "nbformat": 4,
 "nbformat_minor": 2
}
