{
 "cells": [
  {
   "cell_type": "code",
   "execution_count": 33,
   "metadata": {},
   "outputs": [],
   "source": [
    "import numpy as np\n",
    "import matplotlib.pyplot as pyp"
   ]
  },
  {
   "cell_type": "code",
   "execution_count": 34,
   "metadata": {},
   "outputs": [],
   "source": [
    "dataset = np.load('pts.npy')"
   ]
  },
  {
   "cell_type": "code",
   "execution_count": 35,
   "metadata": {},
   "outputs": [],
   "source": [
    "M = dataset.mean(axis=0, keepdims=True)"
   ]
  },
  {
   "cell_type": "code",
   "execution_count": 36,
   "metadata": {},
   "outputs": [
    {
     "data": {
      "text/plain": [
       "array([[-0.1025569 , -6.42222282]])"
      ]
     },
     "execution_count": 36,
     "metadata": {},
     "output_type": "execute_result"
    }
   ],
   "source": [
    "#calculate the mean of the dataset\n",
    "M"
   ]
  },
  {
   "cell_type": "code",
   "execution_count": 37,
   "metadata": {},
   "outputs": [
    {
     "data": {
      "text/plain": [
       "array([[ 6.34838306e+00, -6.43671259e+01],\n",
       "       [ 9.86381827e+00, -8.27317880e+01],\n",
       "       [-9.48214968e+00,  6.16270204e+01],\n",
       "       [ 2.83024455e+00, -2.00380669e+01],\n",
       "       [-1.56129159e-02, -7.20337168e+00],\n",
       "       [-5.64956740e+00,  3.45951791e+01],\n",
       "       [-9.16896106e+00,  6.19980038e+01],\n",
       "       [-3.78415655e+00,  3.70528588e+01],\n",
       "       [-7.17647279e+00,  4.84074079e+01],\n",
       "       [-4.24670288e+00,  1.03057126e+01]])"
      ]
     },
     "execution_count": 37,
     "metadata": {},
     "output_type": "execute_result"
    }
   ],
   "source": [
    "dataset[:10]"
   ]
  },
  {
   "cell_type": "code",
   "execution_count": 38,
   "metadata": {},
   "outputs": [
    {
     "data": {
      "text/plain": [
       "array([[  6.45093996, -57.94490307],\n",
       "       [  9.96637517, -76.3095652 ],\n",
       "       [ -9.37959278,  68.04924325],\n",
       "       [  2.93280145, -13.6158441 ],\n",
       "       [  0.08694398,  -0.78114886],\n",
       "       [ -5.54701051,  41.01740195],\n",
       "       [ -9.06640416,  68.4202266 ],\n",
       "       [ -3.68159965,  43.47508164],\n",
       "       [ -7.07391589,  54.82963069],\n",
       "       [ -4.14414598,  16.72793547]])"
      ]
     },
     "execution_count": 38,
     "metadata": {},
     "output_type": "execute_result"
    }
   ],
   "source": [
    "#construct new dataset from original dataset minus mean\n",
    "datasetMinusMean = dataset - M\n",
    "datasetMinusMean[:10]"
   ]
  },
  {
   "cell_type": "code",
   "execution_count": 39,
   "metadata": {},
   "outputs": [
    {
     "data": {
      "text/plain": [
       "array([[ 2073.41229969,  2777.9059565 , -2493.04758529, ...,\n",
       "        -1494.21115405,  -861.18384537, -1161.56193021],\n",
       "       [ 2777.9059565 ,  3721.76894307, -3340.12281978, ...,\n",
       "        -2001.90674365, -1153.79258339, -1556.23163095],\n",
       "       [-2493.04758529, -3340.12281978,  2997.61232411, ...,\n",
       "         1796.62265439,  1035.47775158,  1396.64897604],\n",
       "       ...,\n",
       "       [-1494.21115405, -2001.90674365,  1796.62265439, ...,\n",
       "         1076.80801027,   620.61487126,   837.08329139],\n",
       "       [ -861.18384537, -1153.79258339,  1035.47775158, ...,\n",
       "          620.61487126,   357.6894068 ,   482.45029213],\n",
       "       [-1161.56193021, -1556.23163095,  1396.64897604, ...,\n",
       "          837.08329139,   482.45029213,   650.72736277]])"
      ]
     },
     "execution_count": 39,
     "metadata": {},
     "output_type": "execute_result"
    }
   ],
   "source": [
    "#calculate the covariance matrix using numpy\n",
    "covMatrix = np.cov(datasetMinusMean)\n",
    "covMatrix"
   ]
  },
  {
   "cell_type": "code",
   "execution_count": 40,
   "metadata": {},
   "outputs": [],
   "source": [
    "#run SVD\n",
    "U, s, V = np.linalg.svd(covMatrix)"
   ]
  },
  {
   "cell_type": "code",
   "execution_count": 41,
   "metadata": {},
   "outputs": [
    {
     "data": {
      "text/plain": [
       "(100, 100)"
      ]
     },
     "execution_count": 41,
     "metadata": {},
     "output_type": "execute_result"
    }
   ],
   "source": [
    "U.shape"
   ]
  },
  {
   "cell_type": "code",
   "execution_count": 42,
   "metadata": {},
   "outputs": [
    {
     "data": {
      "text/plain": [
       "array([[-0.12565529, -0.24594266, -0.36897931, ..., -0.17734926,\n",
       "        -0.16008403, -0.01650389],\n",
       "       [-0.16834982,  0.07348402, -0.15832282, ..., -0.07625108,\n",
       "         0.37245415,  0.2510962 ],\n",
       "       [ 0.15108651, -0.1239573 ,  0.19530492, ..., -0.03044031,\n",
       "         0.22685958,  0.17682143],\n",
       "       ...,\n",
       "       [ 0.09055389, -0.02402072, -0.12739881, ..., -0.0267812 ,\n",
       "         0.11573147, -0.07175328],\n",
       "       [ 0.05219044,  0.05288385,  0.02045117, ...,  0.05789257,\n",
       "         0.04544961, -0.06322065],\n",
       "       [ 0.0703943 , -0.02868207,  0.11212719, ...,  0.01409971,\n",
       "         0.00938438,  0.08254019]])"
      ]
     },
     "execution_count": 42,
     "metadata": {},
     "output_type": "execute_result"
    }
   ],
   "source": [
    "U"
   ]
  },
  {
   "cell_type": "code",
   "execution_count": 43,
   "metadata": {},
   "outputs": [
    {
     "data": {
      "text/plain": [
       "(100,)"
      ]
     },
     "execution_count": 43,
     "metadata": {},
     "output_type": "execute_result"
    }
   ],
   "source": [
    "s.shape"
   ]
  },
  {
   "cell_type": "code",
   "execution_count": 44,
   "metadata": {},
   "outputs": [
    {
     "data": {
      "text/plain": [
       "array([1.31317947e+05, 7.65137674e-11, 6.94036981e-11, 6.14576396e-11,\n",
       "       5.51582107e-11, 5.03695737e-11, 4.54952884e-11, 4.41050669e-11,\n",
       "       4.01895927e-11, 3.22449897e-11, 2.38938531e-11, 1.95030617e-11,\n",
       "       1.78238730e-11, 1.30172989e-11, 1.30172989e-11, 1.30172989e-11,\n",
       "       1.30172989e-11, 1.30172989e-11, 1.30172989e-11, 1.30172989e-11,\n",
       "       1.30172989e-11, 1.30172989e-11, 1.30172989e-11, 1.30172989e-11,\n",
       "       1.30172989e-11, 1.30172989e-11, 1.30172989e-11, 1.30172989e-11,\n",
       "       1.30172989e-11, 1.30172989e-11, 1.30172989e-11, 1.30172989e-11,\n",
       "       1.30172989e-11, 1.30172989e-11, 1.30172989e-11, 1.30172989e-11,\n",
       "       1.30172989e-11, 1.30172989e-11, 1.30172989e-11, 1.30172989e-11,\n",
       "       1.30172989e-11, 1.30172989e-11, 1.30172989e-11, 1.30172989e-11,\n",
       "       1.30172989e-11, 1.30172989e-11, 1.30172989e-11, 1.30172989e-11,\n",
       "       1.30172989e-11, 1.30172989e-11, 1.30172989e-11, 1.30172989e-11,\n",
       "       1.30172989e-11, 1.30172989e-11, 1.30172989e-11, 1.30172989e-11,\n",
       "       1.30172989e-11, 1.30172989e-11, 1.30172989e-11, 1.30172989e-11,\n",
       "       1.30172989e-11, 1.30172989e-11, 1.30172989e-11, 1.30172989e-11,\n",
       "       1.30172989e-11, 1.30172989e-11, 1.30172989e-11, 1.30172989e-11,\n",
       "       1.30172989e-11, 1.30172989e-11, 1.30172989e-11, 1.30172989e-11,\n",
       "       1.30172989e-11, 1.30172989e-11, 1.30172989e-11, 1.30172989e-11,\n",
       "       1.30172989e-11, 1.30172989e-11, 1.30172989e-11, 1.30172989e-11,\n",
       "       1.30172989e-11, 1.30172989e-11, 1.30172989e-11, 1.30172989e-11,\n",
       "       1.30172989e-11, 1.30172989e-11, 1.30172989e-11, 1.30172989e-11,\n",
       "       1.30172989e-11, 1.30172989e-11, 1.30172989e-11, 1.30172989e-11,\n",
       "       1.30172989e-11, 1.30172989e-11, 1.30172989e-11, 1.30172989e-11,\n",
       "       1.27764229e-11, 6.90834451e-12, 6.26733876e-12, 2.72474564e-12])"
      ]
     },
     "execution_count": 44,
     "metadata": {},
     "output_type": "execute_result"
    }
   ],
   "source": [
    "s"
   ]
  },
  {
   "cell_type": "code",
   "execution_count": 45,
   "metadata": {},
   "outputs": [
    {
     "data": {
      "text/plain": [
       "(100, 100)"
      ]
     },
     "execution_count": 45,
     "metadata": {},
     "output_type": "execute_result"
    }
   ],
   "source": [
    "V.shape"
   ]
  },
  {
   "cell_type": "code",
   "execution_count": 46,
   "metadata": {},
   "outputs": [
    {
     "data": {
      "text/plain": [
       "array([[-1.25655294e-01, -1.68349822e-01,  1.51086510e-01, ...,\n",
       "         9.05538867e-02,  5.21904446e-02,  7.03942995e-02],\n",
       "       [-2.04094107e-02,  6.27698178e-01,  6.89716953e-01, ...,\n",
       "        -1.36814715e-02,  1.43543353e-02, -2.94544308e-02],\n",
       "       [ 4.07317379e-03, -8.48624346e-02, -9.92906512e-02, ...,\n",
       "        -6.25210073e-03,  1.08986338e-02,  1.05917705e-03],\n",
       "       ...,\n",
       "       [ 0.00000000e+00,  2.53667217e-02,  7.33792387e-03, ...,\n",
       "         3.46067685e-03,  2.31304079e-02, -4.71245028e-03],\n",
       "       [ 4.81808419e-01,  2.36724016e-02,  4.93366279e-02, ...,\n",
       "        -7.66698064e-02,  9.85305359e-03, -1.66048427e-02],\n",
       "       [ 8.27518184e-01,  1.09293101e-01, -1.52845725e-01, ...,\n",
       "         6.45782122e-02,  4.67515695e-04,  2.70609898e-02]])"
      ]
     },
     "execution_count": 46,
     "metadata": {},
     "output_type": "execute_result"
    }
   ],
   "source": [
    "V"
   ]
  },
  {
   "cell_type": "code",
   "execution_count": 47,
   "metadata": {},
   "outputs": [],
   "source": [
    "#reconstruct the original covariance matrix using the SVD decomposition\n",
    "S = np.diag(s)\n",
    "reconstructed = np.dot(U, np.dot(S, V))"
   ]
  },
  {
   "cell_type": "code",
   "execution_count": 48,
   "metadata": {},
   "outputs": [
    {
     "data": {
      "text/plain": [
       "array([[ 2073.41229969,  2777.9059565 , -2493.04758529, ...,\n",
       "        -1494.21115405,  -861.18384537, -1161.56193021],\n",
       "       [ 2777.9059565 ,  3721.76894307, -3340.12281978, ...,\n",
       "        -2001.90674365, -1153.79258339, -1556.23163095],\n",
       "       [-2493.04758529, -3340.12281978,  2997.61232411, ...,\n",
       "         1796.62265439,  1035.47775158,  1396.64897604],\n",
       "       ...,\n",
       "       [-1494.21115405, -2001.90674365,  1796.62265439, ...,\n",
       "         1076.80801027,   620.61487126,   837.08329139],\n",
       "       [ -861.18384537, -1153.79258339,  1035.47775158, ...,\n",
       "          620.61487126,   357.6894068 ,   482.45029213],\n",
       "       [-1161.56193021, -1556.23163095,  1396.64897604, ...,\n",
       "          837.08329139,   482.45029213,   650.72736277]])"
      ]
     },
     "execution_count": 48,
     "metadata": {},
     "output_type": "execute_result"
    }
   ],
   "source": [
    "reconstructed"
   ]
  },
  {
   "cell_type": "code",
   "execution_count": 49,
   "metadata": {},
   "outputs": [
    {
     "data": {
      "text/plain": [
       "True"
      ]
     },
     "execution_count": 49,
     "metadata": {},
     "output_type": "execute_result"
    }
   ],
   "source": [
    "np.allclose(covMatrix, np.dot(U, np.dot(S, V)))"
   ]
  },
  {
   "cell_type": "code",
   "execution_count": null,
   "metadata": {},
   "outputs": [],
   "source": []
  }
 ],
 "metadata": {
  "kernelspec": {
   "display_name": "Python 3",
   "language": "python",
   "name": "python3"
  },
  "language_info": {
   "codemirror_mode": {
    "name": "ipython",
    "version": 3
   },
   "file_extension": ".py",
   "mimetype": "text/x-python",
   "name": "python",
   "nbconvert_exporter": "python",
   "pygments_lexer": "ipython3",
   "version": "3.6.5"
  }
 },
 "nbformat": 4,
 "nbformat_minor": 2
}
