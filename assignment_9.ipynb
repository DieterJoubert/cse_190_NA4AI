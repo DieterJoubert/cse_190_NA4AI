{
 "cells": [
  {
   "cell_type": "code",
   "execution_count": 1,
   "metadata": {},
   "outputs": [],
   "source": [
    "import numpy as np\n",
    "import matplotlib.pyplot as plt"
   ]
  },
  {
   "cell_type": "code",
   "execution_count": 2,
   "metadata": {},
   "outputs": [],
   "source": [
    "#same dataset as assignment 8\n",
    "X = np.load('assignment8_X.npy')\n",
    "Y = np.load('assignment8_Y.npy')"
   ]
  },
  {
   "cell_type": "code",
   "execution_count": 3,
   "metadata": {},
   "outputs": [
    {
     "data": {
      "text/plain": [
       "((25, 10), (25, 10))"
      ]
     },
     "execution_count": 3,
     "metadata": {},
     "output_type": "execute_result"
    }
   ],
   "source": [
    "X.shape, Y.shape"
   ]
  },
  {
   "cell_type": "code",
   "execution_count": 4,
   "metadata": {},
   "outputs": [],
   "source": [
    "n = 10   ## number of input neurons\n",
    "k = n    ## number of output neurons\n",
    "\n",
    "t = 25   ## number of examples\n",
    "\n",
    "m_values = [10,25,50] ## m = number of hidden neurons\n",
    "\n",
    "alpha = 0.01\n",
    "steps = 2000"
   ]
  },
  {
   "cell_type": "markdown",
   "metadata": {},
   "source": [
    "### helper functions"
   ]
  },
  {
   "cell_type": "code",
   "execution_count": 5,
   "metadata": {},
   "outputs": [],
   "source": [
    "def create_tensor(a, b, c):\n",
    "    rows = b\n",
    "    cols = c\n",
    "\n",
    "    tensor_data = []\n",
    "\n",
    "    for j in range(a): \n",
    "        data = []\n",
    "        for r in range(rows):\n",
    "            if r == j:\n",
    "                row = [1] * cols\n",
    "            else:\n",
    "                row = [0] * cols\n",
    "            data.append(row)\n",
    "        tensor_data.append(data)\n",
    "\n",
    "    tensor = np.array(tensor_data)\n",
    "    return tensor"
   ]
  },
  {
   "cell_type": "markdown",
   "metadata": {},
   "source": [
    "### linear"
   ]
  },
  {
   "cell_type": "code",
   "execution_count": 6,
   "metadata": {},
   "outputs": [],
   "source": [
    "def run_nn_2hiddenlayers_linear(m):\n",
    "    step_list = []\n",
    "    mse_list = []\n",
    "    \n",
    "    print(\"--------- M: %s --------\" % m)\n",
    "    \n",
    "    #initialize random weights\n",
    "    W1 = 0.1 * np.random.randn(m,n)\n",
    "    W2 = 0.1 * np.random.randn(m,m)\n",
    "    W3 = 0.1 * np.random.randn(n,m)\n",
    "\n",
    "    for step in range(steps):\n",
    "        step_list.append(step)\n",
    "\n",
    "        #calculate current MSE\n",
    "        def calc_fW(X_i):\n",
    "            H1 = np.dot(W1,X_i) \n",
    "            H2 = np.dot(W2,H1)\n",
    "            H3 = np.dot(W3,H2)\n",
    "            return H3\n",
    "\n",
    "        out_data = [calc_fW(X[i]) for i in range(X.shape[0])]\n",
    "        outputs = np.array(out_data)\n",
    "\n",
    "        mse = ((Y - outputs) ** 2).mean(axis=None)\n",
    "        mse_list.append(mse)\n",
    "        \n",
    "        if step % 100 == 0:\n",
    "            print(\"step: %d, mse: %f\" % (step, mse))\n",
    "\n",
    "        gradW1_L = []\n",
    "        gradW2_L = []\n",
    "        gradW3_L = []\n",
    "\n",
    "        for i in range(t):\n",
    "            X_i = X[i] \n",
    "            Y_i = Y[i]\n",
    "\n",
    "            #forward propagation\n",
    "            H1 = np.dot(W1,X_i) \n",
    "            H2 = np.dot(W2,H1)\n",
    "            H3 = np.dot(W3,H2)\n",
    "            \n",
    "            fW = H3\n",
    "\n",
    "            #backward propagation\n",
    "            dH1_dW1 = create_tensor(m,m,k) * X_i\n",
    "            dH2_dW1 = np.tensordot(W2,dH1_dW1,1)\n",
    "            dH3_dW1 = np.tensordot(W3,dH2_dW1,1)\n",
    "\n",
    "            dH2_dW2 = create_tensor(m, m, m) * H1\n",
    "            dH3_dW2 = np.tensordot(W3,dH2_dW2,1)\n",
    "\n",
    "            dH3_dW3 = create_tensor(k, k, m) * H2\n",
    "\n",
    "\n",
    "            #calculate differences between fW and Y\n",
    "            output_diff = (fW - Y_i) ## (10,)\n",
    "\n",
    "            W1_L = np.tensordot(output_diff, dH3_dW1, 1)\n",
    "            W2_L = np.tensordot(output_diff, dH3_dW2, 1)\n",
    "            W3_L = np.tensordot(output_diff, dH3_dW3, 1)\n",
    "\n",
    "            gradW1_L.append(W1_L)\n",
    "            gradW2_L.append(W2_L)\n",
    "            gradW3_L.append(W3_L)\n",
    "\n",
    "        gradW1_L = sum(gradW1_L) * 2. / t\n",
    "        gradW2_L = sum(gradW2_L) * 2. / t\n",
    "        gradW3_L = sum(gradW3_L) * 2. / t\n",
    "\n",
    "        W1 = W1 - alpha * gradW1_L\n",
    "        W2 = W2 - alpha * gradW2_L\n",
    "        W3 = W3 - alpha * gradW3_L\n",
    "\n",
    "    plt.plot(step_list,mse_list)\n",
    "    plt.show()"
   ]
  },
  {
   "cell_type": "code",
   "execution_count": 7,
   "metadata": {},
   "outputs": [
    {
     "name": "stdout",
     "output_type": "stream",
     "text": [
      "--------- M: 10 --------\n",
      "step: 0, mse: 0.345706\n",
      "step: 100, mse: 0.255336\n",
      "step: 200, mse: 0.213700\n",
      "step: 300, mse: 0.196240\n",
      "step: 400, mse: 0.184664\n"
     ]
    },
    {
     "ename": "KeyboardInterrupt",
     "evalue": "",
     "output_type": "error",
     "traceback": [
      "\u001b[0;31m---------------------------------------------------------------------------\u001b[0m",
      "\u001b[0;31mKeyboardInterrupt\u001b[0m                         Traceback (most recent call last)",
      "\u001b[0;32m<ipython-input-7-8d5b7427aace>\u001b[0m in \u001b[0;36m<module>\u001b[0;34m()\u001b[0m\n\u001b[0;32m----> 1\u001b[0;31m \u001b[0mrun_nn_2hiddenlayers_linear\u001b[0m\u001b[0;34m(\u001b[0m\u001b[0;36m10\u001b[0m\u001b[0;34m)\u001b[0m\u001b[0;34m\u001b[0m\u001b[0m\n\u001b[0m",
      "\u001b[0;32m<ipython-input-6-e1d6ee16d4a7>\u001b[0m in \u001b[0;36mrun_nn_2hiddenlayers_linear\u001b[0;34m(m)\u001b[0m\n\u001b[1;32m     47\u001b[0m             \u001b[0mdH1_dW1\u001b[0m \u001b[0;34m=\u001b[0m \u001b[0mcreate_tensor\u001b[0m\u001b[0;34m(\u001b[0m\u001b[0mm\u001b[0m\u001b[0;34m,\u001b[0m\u001b[0mm\u001b[0m\u001b[0;34m,\u001b[0m\u001b[0mk\u001b[0m\u001b[0;34m)\u001b[0m \u001b[0;34m*\u001b[0m \u001b[0mX_i\u001b[0m\u001b[0;34m\u001b[0m\u001b[0m\n\u001b[1;32m     48\u001b[0m             \u001b[0mdH2_dW1\u001b[0m \u001b[0;34m=\u001b[0m \u001b[0mnp\u001b[0m\u001b[0;34m.\u001b[0m\u001b[0mtensordot\u001b[0m\u001b[0;34m(\u001b[0m\u001b[0mW2\u001b[0m\u001b[0;34m,\u001b[0m\u001b[0mdH1_dW1\u001b[0m\u001b[0;34m,\u001b[0m\u001b[0;36m1\u001b[0m\u001b[0;34m)\u001b[0m\u001b[0;34m\u001b[0m\u001b[0m\n\u001b[0;32m---> 49\u001b[0;31m             \u001b[0mdH3_dW1\u001b[0m \u001b[0;34m=\u001b[0m \u001b[0mnp\u001b[0m\u001b[0;34m.\u001b[0m\u001b[0mtensordot\u001b[0m\u001b[0;34m(\u001b[0m\u001b[0mW3\u001b[0m\u001b[0;34m,\u001b[0m\u001b[0mdH2_dW1\u001b[0m\u001b[0;34m,\u001b[0m\u001b[0;36m1\u001b[0m\u001b[0;34m)\u001b[0m\u001b[0;34m\u001b[0m\u001b[0m\n\u001b[0m\u001b[1;32m     50\u001b[0m \u001b[0;34m\u001b[0m\u001b[0m\n\u001b[1;32m     51\u001b[0m             \u001b[0mdH2_dW2\u001b[0m \u001b[0;34m=\u001b[0m \u001b[0mcreate_tensor\u001b[0m\u001b[0;34m(\u001b[0m\u001b[0mm\u001b[0m\u001b[0;34m,\u001b[0m \u001b[0mm\u001b[0m\u001b[0;34m,\u001b[0m \u001b[0mm\u001b[0m\u001b[0;34m)\u001b[0m \u001b[0;34m*\u001b[0m \u001b[0mH1\u001b[0m\u001b[0;34m\u001b[0m\u001b[0m\n",
      "\u001b[0;32m~/anaconda3/lib/python3.6/site-packages/numpy/core/numeric.py\u001b[0m in \u001b[0;36mtensordot\u001b[0;34m(a, b, axes)\u001b[0m\n\u001b[1;32m   1285\u001b[0m     \u001b[0;31m# Move the axes to sum over to the end of \"a\"\u001b[0m\u001b[0;34m\u001b[0m\u001b[0;34m\u001b[0m\u001b[0m\n\u001b[1;32m   1286\u001b[0m     \u001b[0;31m# and to the front of \"b\"\u001b[0m\u001b[0;34m\u001b[0m\u001b[0;34m\u001b[0m\u001b[0m\n\u001b[0;32m-> 1287\u001b[0;31m     \u001b[0mnotin\u001b[0m \u001b[0;34m=\u001b[0m \u001b[0;34m[\u001b[0m\u001b[0mk\u001b[0m \u001b[0;32mfor\u001b[0m \u001b[0mk\u001b[0m \u001b[0;32min\u001b[0m \u001b[0mrange\u001b[0m\u001b[0;34m(\u001b[0m\u001b[0mnda\u001b[0m\u001b[0;34m)\u001b[0m \u001b[0;32mif\u001b[0m \u001b[0mk\u001b[0m \u001b[0;32mnot\u001b[0m \u001b[0;32min\u001b[0m \u001b[0maxes_a\u001b[0m\u001b[0;34m]\u001b[0m\u001b[0;34m\u001b[0m\u001b[0m\n\u001b[0m\u001b[1;32m   1288\u001b[0m     \u001b[0mnewaxes_a\u001b[0m \u001b[0;34m=\u001b[0m \u001b[0mnotin\u001b[0m \u001b[0;34m+\u001b[0m \u001b[0maxes_a\u001b[0m\u001b[0;34m\u001b[0m\u001b[0m\n\u001b[1;32m   1289\u001b[0m     \u001b[0mN2\u001b[0m \u001b[0;34m=\u001b[0m \u001b[0;36m1\u001b[0m\u001b[0;34m\u001b[0m\u001b[0m\n",
      "\u001b[0;32m~/anaconda3/lib/python3.6/site-packages/numpy/core/numeric.py\u001b[0m in \u001b[0;36m<listcomp>\u001b[0;34m(.0)\u001b[0m\n\u001b[1;32m   1285\u001b[0m     \u001b[0;31m# Move the axes to sum over to the end of \"a\"\u001b[0m\u001b[0;34m\u001b[0m\u001b[0;34m\u001b[0m\u001b[0m\n\u001b[1;32m   1286\u001b[0m     \u001b[0;31m# and to the front of \"b\"\u001b[0m\u001b[0;34m\u001b[0m\u001b[0;34m\u001b[0m\u001b[0m\n\u001b[0;32m-> 1287\u001b[0;31m     \u001b[0mnotin\u001b[0m \u001b[0;34m=\u001b[0m \u001b[0;34m[\u001b[0m\u001b[0mk\u001b[0m \u001b[0;32mfor\u001b[0m \u001b[0mk\u001b[0m \u001b[0;32min\u001b[0m \u001b[0mrange\u001b[0m\u001b[0;34m(\u001b[0m\u001b[0mnda\u001b[0m\u001b[0;34m)\u001b[0m \u001b[0;32mif\u001b[0m \u001b[0mk\u001b[0m \u001b[0;32mnot\u001b[0m \u001b[0;32min\u001b[0m \u001b[0maxes_a\u001b[0m\u001b[0;34m]\u001b[0m\u001b[0;34m\u001b[0m\u001b[0m\n\u001b[0m\u001b[1;32m   1288\u001b[0m     \u001b[0mnewaxes_a\u001b[0m \u001b[0;34m=\u001b[0m \u001b[0mnotin\u001b[0m \u001b[0;34m+\u001b[0m \u001b[0maxes_a\u001b[0m\u001b[0;34m\u001b[0m\u001b[0m\n\u001b[1;32m   1289\u001b[0m     \u001b[0mN2\u001b[0m \u001b[0;34m=\u001b[0m \u001b[0;36m1\u001b[0m\u001b[0;34m\u001b[0m\u001b[0m\n",
      "\u001b[0;31mKeyboardInterrupt\u001b[0m: "
     ]
    }
   ],
   "source": [
    "run_nn_2hiddenlayers_linear(10)"
   ]
  },
  {
   "cell_type": "code",
   "execution_count": null,
   "metadata": {},
   "outputs": [],
   "source": [
    "run_nn_2hiddenlayers_linear(25)"
   ]
  },
  {
   "cell_type": "code",
   "execution_count": null,
   "metadata": {},
   "outputs": [],
   "source": [
    "run_nn_2hiddenlayers_linear(50)"
   ]
  },
  {
   "cell_type": "code",
   "execution_count": null,
   "metadata": {},
   "outputs": [],
   "source": []
  },
  {
   "cell_type": "code",
   "execution_count": null,
   "metadata": {},
   "outputs": [],
   "source": []
  },
  {
   "cell_type": "code",
   "execution_count": null,
   "metadata": {},
   "outputs": [],
   "source": []
  },
  {
   "cell_type": "code",
   "execution_count": null,
   "metadata": {},
   "outputs": [],
   "source": []
  },
  {
   "cell_type": "code",
   "execution_count": null,
   "metadata": {},
   "outputs": [],
   "source": []
  },
  {
   "cell_type": "markdown",
   "metadata": {},
   "source": [
    "### sigmoidal"
   ]
  },
  {
   "cell_type": "code",
   "execution_count": null,
   "metadata": {},
   "outputs": [],
   "source": [
    "def sigmoid(x):\n",
    "    return 1.0/(1+ np.exp(-x))\n",
    "\n",
    "def sigmoid_derivative(x):\n",
    "    return x * (1.0 - x)\n",
    "\n",
    "def create_diag(V):\n",
    "    return np.diag(sigmoid(V) * (1-sigmoid(V)))"
   ]
  },
  {
   "cell_type": "code",
   "execution_count": null,
   "metadata": {},
   "outputs": [],
   "source": [
    "m = 13\n",
    "\n",
    "X_i = X[0] \n",
    "Y_i = Y[0]\n",
    "\n",
    "W1 = 0.1 * np.random.randn(m,n)\n",
    "W2 = 0.1 * np.random.randn(m,m)\n",
    "W3 = 0.1 * np.random.randn(n,m)\n",
    "\n",
    "#forward propagation\n",
    "V1 = np.dot(W1,X_i)\n",
    "H1 = sigmoid(V1)\n",
    "V2 = np.dot(W2,H1)\n",
    "H2 = sigmoid(V2)\n",
    "H3 = np.dot(W3,H2)"
   ]
  },
  {
   "cell_type": "code",
   "execution_count": null,
   "metadata": {},
   "outputs": [],
   "source": [
    "#backward propagation\n",
    "\n",
    "dH3_dH2 = W3\n",
    "\n",
    "dH2_dV2 = create_diag(V2)\n",
    "\n",
    "dV2_dH1 = W2\n",
    "\n",
    "dH1_dV1 = create_diag(V1)\n",
    "\n",
    "\n",
    "dH3_dV2 = dH3_dH2.dot(dH2_dV2)\n",
    "\n",
    "\n",
    "dH3_dV1 = dH3_dV2.dot()\n",
    "\n",
    "\n",
    "\n",
    "dH1_dV1 = \n",
    "\n",
    "dV1_dW1 = create_tensor(m,m,k) * X_i   \n",
    "\n",
    "dH1_dV1 = create_diag(V1) \n",
    "\n",
    "dV2_dH1 = np.tensordot(W)\n",
    "\n",
    "\n",
    "\n",
    "\n",
    "\n",
    "dH2_dW1 = np.tensordot(W2,dH1_dW1,1)\n",
    "dH2_dV2 = W2.dot(create_diag(V2))\n",
    "dH3_dW1 = np.tensordot(W3,dH2_dW1,1)\n",
    "\n",
    "\n",
    "\n",
    "\n",
    "\n",
    "\n",
    "\n",
    "\n",
    "\n",
    "\n",
    "dH2_dV2 = W2.dot(create_diag(V2))\n",
    "dV2_dW2 = create_tensor(m,m,k) * H2\n",
    "dH3_dW2 = np.tensordot(W3,dV2_dW1,1)\n",
    "\n",
    "\n",
    "\n",
    "dH3_dW3 = create_tensor(k, k, m) * H2  ## X"
   ]
  },
  {
   "cell_type": "code",
   "execution_count": null,
   "metadata": {},
   "outputs": [],
   "source": [
    "def run_nn_2hiddenlayers_sigmoidal(m):\n",
    "    step_list = []\n",
    "    mse_list = []\n",
    "    \n",
    "    print(\"--------- M: %s --------\" % m)\n",
    "    \n",
    "    #initialize random weights\n",
    "    W1 = 0.1 * np.random.randn(m,n)\n",
    "    W2 = 0.1 * np.random.randn(m,m)\n",
    "    W3 = 0.1 * np.random.randn(n,m)\n",
    "\n",
    "    for step in range(steps):\n",
    "        step_list.append(step)\n",
    "\n",
    "        #calculate current MSE\n",
    "        def calc_fW(X_i):\n",
    "            H1 = np.dot(W1,X_i) \n",
    "            H2 = np.dot(W2,H1)\n",
    "            H3 = np.dot(W3,H2)\n",
    "            return H3\n",
    "\n",
    "        out_data = [calc_fW(X[i]) for i in range(X.shape[0])]\n",
    "        outputs = np.array(out_data)\n",
    "\n",
    "        mse = ((Y - outputs) ** 2).mean(axis=None)\n",
    "        mse_list.append(mse)\n",
    "        \n",
    "        if step % 100 == 0:\n",
    "            print(\"step: %d, mse: %f\" % (step, mse))\n",
    "\n",
    "        gradW1_L = []\n",
    "        gradW2_L = []\n",
    "        gradW3_L = []\n",
    "\n",
    "        for i in range(t):\n",
    "            X_i = X[i] \n",
    "            Y_i = Y[i]\n",
    "\n",
    "            #forward propagation\n",
    "            H1 = np.dot(W1,X_i) \n",
    "            H2 = np.dot(W2,H1)\n",
    "            H3 = np.dot(W3,H2)\n",
    "            \n",
    "            fW = H3\n",
    "\n",
    "            #backward propagation\n",
    "            dH1_dW1 = create_tensor(m,m,k) * X_i\n",
    "            dH2_dW1 = np.tensordot(W2,dH1_dW1,1)\n",
    "            dH3_dW1 = np.tensordot(W3,dH2_dW1,1)\n",
    "\n",
    "            dH2_dW2 = create_tensor(m, m, m) * H1\n",
    "            dH3_dW2 = np.tensordot(W3,dH2_dW2,1)\n",
    "\n",
    "            dH3_dW3 = create_tensor(k, k, m) * H2\n",
    "\n",
    "            #calculate differences between fW and Y\n",
    "            output_diff = (fW - Y_i) ## (10,)\n",
    "\n",
    "            W1_L = np.tensordot(output_diff, dH3_dW1, 1)\n",
    "            W2_L = np.tensordot(output_diff, dH3_dW2, 1)\n",
    "            W3_L = np.tensordot(output_diff, dH3_dW3, 1)\n",
    "\n",
    "            gradW1_L.append(W1_L)\n",
    "            gradW2_L.append(W2_L)\n",
    "            gradW3_L.append(W3_L)\n",
    "\n",
    "        gradW1_L = sum(gradW1_L) * 2. / t\n",
    "        gradW2_L = sum(gradW2_L) * 2. / t\n",
    "        gradW3_L = sum(gradW3_L) * 2. / t\n",
    "\n",
    "        W1 = W1 - alpha * gradW1_L\n",
    "        W2 = W2 - alpha * gradW2_L\n",
    "        W3 = W3 - alpha * gradW3_L\n",
    "\n",
    "    plt.plot(step_list,mse_list)\n",
    "    plt.show()"
   ]
  },
  {
   "cell_type": "code",
   "execution_count": null,
   "metadata": {},
   "outputs": [],
   "source": [
    "run_nn_2hiddenlayers_sigmoidal(13)"
   ]
  },
  {
   "cell_type": "code",
   "execution_count": null,
   "metadata": {},
   "outputs": [],
   "source": []
  },
  {
   "cell_type": "markdown",
   "metadata": {},
   "source": []
  }
 ],
 "metadata": {
  "kernelspec": {
   "display_name": "Python 3",
   "language": "python",
   "name": "python3"
  },
  "language_info": {
   "codemirror_mode": {
    "name": "ipython",
    "version": 3
   },
   "file_extension": ".py",
   "mimetype": "text/x-python",
   "name": "python",
   "nbconvert_exporter": "python",
   "pygments_lexer": "ipython3",
   "version": "3.6.5"
  }
 },
 "nbformat": 4,
 "nbformat_minor": 2
}
