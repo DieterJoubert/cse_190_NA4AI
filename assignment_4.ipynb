{
 "cells": [
  {
   "cell_type": "code",
   "execution_count": 300,
   "metadata": {},
   "outputs": [],
   "source": [
    "import numpy as np\n",
    "import matplotlib.pyplot as plt\n",
    "from mpl_toolkits.mplot3d import Axes3D\n",
    "import random\n",
    "import math"
   ]
  },
  {
   "cell_type": "markdown",
   "metadata": {},
   "source": [
    "## Part A"
   ]
  },
  {
   "cell_type": "code",
   "execution_count": 301,
   "metadata": {},
   "outputs": [],
   "source": [
    "dataset = np.load('assignment22.npy')"
   ]
  },
  {
   "cell_type": "code",
   "execution_count": 302,
   "metadata": {},
   "outputs": [],
   "source": [
    "x = dataset[:,0]\n",
    "y = dataset[:,1]"
   ]
  },
  {
   "cell_type": "markdown",
   "metadata": {},
   "source": [
    "### linear regression"
   ]
  },
  {
   "cell_type": "code",
   "execution_count": 303,
   "metadata": {},
   "outputs": [],
   "source": [
    "## 2/N (-xT y + mxTx + xTb)\n",
    "def dMSE_dm(x, y, m, b):\n",
    "    N = len(x)\n",
    "    b_hat = np.full((N),b)\n",
    "    return (2 / N) * (-x.T.dot(y) + m * x.T.dot(x) + x.T.dot(b_hat))\n",
    "    \n",
    "def dMSE_db(x, y, m, b):\n",
    "    N = len(y)\n",
    "    one = np.ones(N)\n",
    "    b_hat = np.full((N),b)\n",
    "    return (2 / N) * (-one.T.dot(y) + m * one.T.dot(x) + one.T.dot(b_hat))\n",
    "\n",
    "def run_gradient_descent_conv(alpha, steps, x0, y0, m, b):\n",
    "    \n",
    "    dists = [] \n",
    "    fvals = []\n",
    "    \n",
    "    mm = []\n",
    "    bb = []\n",
    "    \n",
    "    for k in range(steps):\n",
    "        temp_0 = m - alpha * dMSE_dm(x0, y0, m, b)\n",
    "        temp_1 = b - alpha * dMSE_db(x0, y0, m, b)\n",
    "        m = temp_0\n",
    "        b = temp_1\n",
    "        \n",
    "        mm.append(m)\n",
    "        bb.append(b)\n",
    "        \n",
    "        check = math.sqrt((dMSE_dm(x0, y0, m, b))**2 + (dMSE_db(x0, y0, m, b))**2)\n",
    "        precision = 10 ** (-5)\n",
    "        if check < precision:\n",
    "            pass\n",
    "\n",
    "    return mm, bb"
   ]
  },
  {
   "cell_type": "code",
   "execution_count": 304,
   "metadata": {},
   "outputs": [],
   "source": [
    "m_init = random.uniform(0.1,2)\n",
    "b_init = random.uniform(0.1,100)\n",
    "\n",
    "steps = 50\n",
    "alpha = 0.1"
   ]
  },
  {
   "cell_type": "code",
   "execution_count": 305,
   "metadata": {},
   "outputs": [],
   "source": [
    "mm, bb = run_gradient_descent_conv(alpha, steps, x, y, m_init, b_init)  ##TODO: update initial values"
   ]
  },
  {
   "cell_type": "code",
   "execution_count": 306,
   "metadata": {
    "scrolled": true
   },
   "outputs": [
    {
     "data": {
      "text/plain": [
       "2.817644022714065"
      ]
     },
     "execution_count": 306,
     "metadata": {},
     "output_type": "execute_result"
    }
   ],
   "source": [
    "mm[-1]"
   ]
  },
  {
   "cell_type": "code",
   "execution_count": 307,
   "metadata": {},
   "outputs": [
    {
     "data": {
      "text/plain": [
       "14.216318097391737"
      ]
     },
     "execution_count": 307,
     "metadata": {},
     "output_type": "execute_result"
    }
   ],
   "source": [
    "bb[-1]"
   ]
  },
  {
   "cell_type": "code",
   "execution_count": null,
   "metadata": {},
   "outputs": [],
   "source": []
  },
  {
   "cell_type": "code",
   "execution_count": 308,
   "metadata": {},
   "outputs": [],
   "source": [
    "a = np.array([1,2,3])\n",
    "b = np.array([1,2,3])"
   ]
  },
  {
   "cell_type": "code",
   "execution_count": null,
   "metadata": {},
   "outputs": [],
   "source": []
  },
  {
   "cell_type": "code",
   "execution_count": 309,
   "metadata": {},
   "outputs": [
    {
     "data": {
      "text/plain": [
       "array([ 1,  4,  9, 16, 25])"
      ]
     },
     "execution_count": 309,
     "metadata": {},
     "output_type": "execute_result"
    }
   ],
   "source": [
    "blah = np.array([1,2,3,4,5])\n",
    "blah ** 2"
   ]
  },
  {
   "cell_type": "markdown",
   "metadata": {},
   "source": [
    "### quadratic regression"
   ]
  },
  {
   "cell_type": "code",
   "execution_count": 310,
   "metadata": {},
   "outputs": [],
   "source": [
    "#def dMSE_dm(x, y, m, b):\n",
    "#    N = len(x)\n",
    "#    b_hat = np.full((N),b)\n",
    "#    return (2 / N) * (-x.T.dot(y) + m * x.T.dot(x) + x.T.dot(b_hat))\n",
    "\n",
    "def dMSE_dm1(x, y, m1, m2, b):\n",
    "    N = len(x)\n",
    "    b_hat = np.full((N),b)\n",
    "    return (2 / N) * (-x.T.dot(y) + m1 * x.T.dot(x) + m2 * (x.T.dot(x**2)) + x.T.dot(b_hat))\n",
    "    \n",
    "def dMSE_dm2(x, y, m1, m2, b):\n",
    "    N = len(x)\n",
    "    b_hat = np.full((N),b)\n",
    "    return (2 / N) * (-(x**2).T.dot(y) + m1 * (x**2).T.dot(x) + m2 * (x**2).T.dot(x**2) + (x**2).T.dot(b_hat))\n",
    "    \n",
    "def dMSE_db(x, y, m1, m2, b):\n",
    "    N = len(y)\n",
    "    one = np.ones(N)\n",
    "    b_hat = np.full((N),b)\n",
    "    return (2 / N) * (-one.T.dot(y) + m1 * one.T.dot(x) + m2 * one.T.dot(x**2) + one.T.dot(b_hat))\n",
    "\n",
    "def run_gradient_descent_conv(alpha, steps, x0, y0, m1, m2, b):\n",
    "    mm1 = []\n",
    "    mm2 = []\n",
    "    bb = []\n",
    "    \n",
    "    for k in range(steps):\n",
    "        temp_m1 = m1 - alpha * dMSE_dm1(x0, y0, m1, m2, b)\n",
    "        temp_m2 = m2 - alpha * dMSE_dm2(x0, y0, m1, m2, b)\n",
    "        temp_b = b - alpha * dMSE_db(x0, y0, m1, m2, b)\n",
    "        \n",
    "        m1 = temp_m1\n",
    "        m2 = temp_m2\n",
    "        b = temp_b\n",
    "        \n",
    "        mm1.append(m1)\n",
    "        mm2.append(m2)\n",
    "        bb.append(b)\n",
    "\n",
    "    return mm1, mm2, bb"
   ]
  },
  {
   "cell_type": "code",
   "execution_count": 311,
   "metadata": {},
   "outputs": [
    {
     "data": {
      "text/plain": [
       "(3.459428325147646e+64, 1.5439743323527471e+66, 1.1506466613136348e+65)"
      ]
     },
     "execution_count": 311,
     "metadata": {},
     "output_type": "execute_result"
    }
   ],
   "source": [
    "m1_init = random.uniform(0.1,2)\n",
    "m2_init = random.uniform(0.1,2)\n",
    "b_init = random.uniform(0.1,100)\n",
    "\n",
    "alpha = 0.01\n",
    "steps = 500\n",
    "\n",
    "mm1, mm2, bb = run_gradient_descent_conv(alpha, steps, x, y, m1_init, m2_init, b_init)\n",
    "\n",
    "mm1[-1], mm2[-1], bb[-1]"
   ]
  },
  {
   "cell_type": "code",
   "execution_count": null,
   "metadata": {},
   "outputs": [],
   "source": []
  },
  {
   "cell_type": "code",
   "execution_count": null,
   "metadata": {},
   "outputs": [],
   "source": []
  },
  {
   "cell_type": "markdown",
   "metadata": {},
   "source": [
    "## Part B\n",
    "\n",
    "f(x,y) = (x+2y-7)^2 + (2x+y-5)^2"
   ]
  },
  {
   "cell_type": "code",
   "execution_count": 312,
   "metadata": {},
   "outputs": [],
   "source": [
    "def f(x,y):\n",
    "    return (x + 2* y - 7) ** 2 + (2 * x + y - 5) ** 2\n",
    "\n",
    "def df_dx(x,y):\n",
    "    return 10*x + 8*y - 34\n",
    "    \n",
    "def df_dy(x,y):\n",
    "    return 8*x + 10*y - 38\n",
    "\n",
    "def run_gradient_descent_conv(alpha, steps, x, y):\n",
    "    trajectories = [(x,y)]\n",
    "\n",
    "    for k in range(steps):\n",
    "        temp_x = x - alpha * df_dx(x,y)\n",
    "        temp_y = y - alpha * df_dy(x,y)\n",
    "        \n",
    "        x = temp_x\n",
    "        y = temp_y\n",
    "        \n",
    "        trajectories.append((x,y))\n",
    "    \n",
    "    return trajectories"
   ]
  },
  {
   "cell_type": "code",
   "execution_count": 313,
   "metadata": {},
   "outputs": [],
   "source": [
    "x0 = 0\n",
    "y0 = -10\n",
    "\n",
    "steps = 200\n",
    "alpha = 0.01\n",
    "\n",
    "traj = run_gradient_descent_conv(alpha, steps, x0, y0)"
   ]
  },
  {
   "cell_type": "code",
   "execution_count": null,
   "metadata": {},
   "outputs": [],
   "source": []
  },
  {
   "cell_type": "code",
   "execution_count": 314,
   "metadata": {
    "scrolled": true
   },
   "outputs": [
    {
     "data": {
      "text/plain": [
       "[(0, -10),\n",
       " (1.1400000000000001, -8.62),\n",
       " (2.0556, -7.469199999999999),\n",
       " (2.787576, -6.506727999999999),\n",
       " (3.36935664, -5.699061279999999),\n",
       " (3.8283458784, -5.018703683199999),\n",
       " (4.187007585216, -4.443100985151999),\n",
       " (4.463754905506559, -3.9537514934540794),\n",
       " (4.67367953443223, -3.5354767365491964),\n",
       " (4.829149719912943, -3.175823425648855),\n",
       " (4.940300621973557, -2.864573060677005),\n",
       " (5.0154364046303614, -2.5933398043671887),\n",
       " (5.0613599485167, -2.3552407363008987),\n",
       " (5.083643212569102, -2.1446254585521447),\n",
       " (5.086848927996364, -1.9568543697024583),\n",
       " (5.0747123847729245, -1.7881168469719215),\n",
       " (5.050290494053386, -1.6352821530565633),\n",
       " (5.016084016892573, -1.4957771772751778),\n",
       " (4.97413778938533, -1.367486180899066),\n",
       " (4.9261229049187225, -1.2486685859599858),\n",
       " (4.873404101303649, -1.137891559757485),\n",
       " (4.817095015953883, -1.0339747318860284),\n",
       " (4.758103492909377, -0.9359448599737362),\n",
       " (4.697168732416338, -0.8429986534091127),\n",
       " (4.634891751447433, -0.7544722866615085),\n",
       " (4.57176035923561, -0.6698163981111522),\n",
       " (4.508169635160941, -0.5885755870388859),\n",
       " (4.444438718607958, -0.5103715991478726),\n",
       " (4.380824574678992, -0.4348895367217219),\n",
       " (4.31753328014883, -0.3618665490238691),\n",
       " (4.254729276055857, -0.29108255653338866),\n",
       " (4.192542952972942, -0.22235264296451832),\n",
       " (4.1310768691128095, -0.15552081490590183),\n",
       " (4.070410847394001, -0.09045488294433639),\n",
       " (4.010606153290148, -0.027042262441422826),\n",
       " (3.951708918956447, 0.03481347153950762),\n",
       " (3.8937529493376415, 0.0951954108690411),\n",
       " (3.836762021534354, 0.1541756338351257),\n",
       " (3.780751768674109, 0.2118171087288648),\n",
       " (3.725731223108389, 0.2681752563620496),\n",
       " (3.671704080288586, 0.32329923287717355),\n",
       " (3.6186697336295537, 0.37723298316636933),\n",
       " (3.566624121613289, 0.4300161061593681),\n",
       " (3.5155604209592104, 0.4816845658143682),\n",
       " (3.46546961359814, 0.5322712755561945),\n",
       " (3.4163409501938307, 0.5818065789127238),\n",
       " (3.3681623288614295, 0.630318645005945),\n",
       " (3.3209206043748107, 0.6778337941964362),\n",
       " (3.2746018404016146, 0.7243767664268077),\n",
       " (3.2291915150473085, 0.7699709425519977),\n",
       " (3.1846746881384176, 0.8146385270930132),\n",
       " (3.1410361371571347, 0.8584006993326385),\n",
       " (3.09826046749481, 0.9012777384268039),\n",
       " (3.056332201671185, 0.9432891271845387),\n",
       " (3.015235851329303, 0.9844536383323901),\n",
       " (2.974955975129782, 1.024789406392807),\n",
       " (2.9354772251053793, 1.0643139877431438),\n",
       " (2.89678438357539, 1.103044410960399),\n",
       " (2.858862392341019, 1.140997219178328),\n",
       " (2.821696375572651, 1.1781885058732136),\n",
       " (2.7852716575455285, 1.21463394524008),\n",
       " (2.7495737761717693, 1.2503488181124298),\n",
       " (2.714588493105598, 1.2853480342074453),\n",
       " (2.6803018010584427, 1.319646151338253),\n",
       " (2.646699928845538, 1.3532573921197522),\n",
       " (2.6137693445914043, 1.3861956586001338),\n",
       " (2.581496757444253, 1.418474545172808),\n",
       " (2.549869118086003, 1.450107350059987),\n",
       " (2.5188736182726035, 1.481107085607108),\n",
       " (2.4884976895967745, 1.511486487584589),\n",
       " (2.45872900163033, 1.5412580236583882),\n",
       " (2.429555459574626, 1.570433901162123),\n",
       " (2.4009652015241936, 1.5990260742799405),\n",
       " (2.372946595429379, 1.627046250730011),\n",
       " (2.3454882358280402, 1.6545058980226595),\n",
       " (2.3185789404034236, 1.6814162493541502),\n",
       " (2.292207746414749, 1.7077883091864614),\n",
       " (2.266363907038357, 1.7336328585546354),\n",
       " (2.2410368876501505, 1.7589604601361033),\n",
       " (2.216216362074247, 1.783781463110481),\n",
       " (2.191892208817984, 1.8081060078334932),\n",
       " (2.168054507309506, 1.8319440303447052),\n",
       " (2.144693534150979, 1.8553052667254741),\n",
       " (2.1217997593978435, 1.8781992573208484),\n",
       " (2.0993638428723913, 1.900635350836936),\n",
       " (2.0773766305181973, 1.922622708323451),\n",
       " (2.0558291508005015, 1.94417030704965),\n",
       " (2.0347126111564795, 1.9652869442806449),\n",
       " (2.01401839449838, 1.9859812409600621),\n",
       " (1.9937380557717368, 2.0062616453041855),\n",
       " (1.9738633185702283, 2.026136436312028),\n",
       " (1.9543860718082433, 2.045613727195207),\n",
       " (1.9352983664518024, 2.064701468731027),\n",
       " (1.9165924123081401, 2.08340745254178),\n",
       " (1.8982605748739836, 2.1017393143029506),\n",
       " (1.8802953722423492, 2.119704536882737),\n",
       " (1.8626894720674954, 2.1373104534150755),\n",
       " (1.8454356885875398, 2.154564250308168),\n",
       " (1.8285269797041324, 2.171472970190348),\n",
       " (1.8119564441184912, 2.1880435147949826),\n",
       " (1.7957173185230435, 2.204282647786005),\n",
       " (1.7798029748478588, 2.220196997525561),\n",
       " (1.764206917561028, 2.235793059785176),\n",
       " (1.748922781022111, 2.251077200401776),\n",
       " (1.733944326887758, 2.2660556578798294),\n",
       " (1.7192654415685957, 2.2807345459408257),\n",
       " (1.70488013373647, 2.2951198560212553),\n",
       " (1.6907825318811227, 2.3092174597202124),\n",
       " (1.6769668819153933, 2.3230331111977014),\n",
       " (1.6634275448280378, 2.3365724495246996),\n",
       " (1.650158994383258, 2.3498410009859865),\n",
       " (1.6371558148660532, 2.3628441813367274),\n",
       " (1.6244126988725098, 2.3755872980137704),\n",
       " (1.6119244451441572, 2.3880755523025927),\n",
       " (1.5996859564455341, 2.400314041460801),\n",
       " (1.5876922374841167, 2.412307760799078),\n",
       " (1.5759383928717787, 2.424061605720441),\n",
       " (1.5644196251269655, 2.4355803737186545),\n",
       " (1.5531312327167766, 2.4468687663366318),\n",
       " (1.5420686081381683, 2.4579313910856264),\n",
       " (1.5312272360375014, 2.4687727633260104),\n",
       " (1.5206026913676705, 2.4793973081104093),\n",
       " (1.5101906375820706, 2.4898093619899546),\n",
       " (1.4999868248646673, 2.5000131747843937),\n",
       " (1.4899870883954491, 2.510012911316781),\n",
       " (1.4801873466505617, 2.519812653113467),\n",
       " (1.4705835997364283, 2.529416400070075),\n",
       " (1.4611719277571795, 2.5388280720841534),\n",
       " (1.4519484892147294, 2.5480515106551636),\n",
       " (1.4429095194408434, 2.557090480452469),\n",
       " (1.4340513290605617, 2.5659486708519545),\n",
       " (1.425370302486349, 2.5746296974419143),\n",
       " (1.416862896442361, 2.583137103498815),\n",
       " (1.4085256385182199, 2.5914743614335447),\n",
       " (1.4003551257517144, 2.5996448742087326),\n",
       " (1.3923480232398444, 2.6076519767277224),\n",
       " (1.3845010627776422, 2.6154989371957624),\n",
       " (1.376811041524217, 2.6231889584539747),\n",
       " (1.3692748206954772, 2.6307251792866397),\n",
       " (1.3618893242829984, 2.638110675702338),\n",
       " (1.3546515377985116, 2.6453484621894643),\n",
       " (1.3475585070435032, 2.652441492946637),\n",
       " (1.340607336903422, 2.659392663088493),\n",
       " (1.3337951901660003, 2.66620480982737),\n",
       " (1.3271192863632106, 2.672880713631353),\n",
       " (1.3205769006363814, 2.679423099359161),\n",
       " (1.3141653626240104, 2.6858346373723343),\n",
       " (1.3078820553718227, 2.69211794462518),\n",
       " (1.301724414264626, 2.698275585732916),\n",
       " (1.29568992597953, 2.7043100740184545),\n",
       " (1.2897761274601007, 2.7102238725382466),\n",
       " (1.283980604911031, 2.716019395087614),\n",
       " (1.2783009928129188, 2.72169900718597),\n",
       " (1.2727349729567492, 2.7272650270423395),\n",
       " (1.2672802734976871, 2.7327197265015655),\n",
       " (1.2619346680277932, 2.738065331971594),\n",
       " (1.2566959746672863, 2.743304025332211),\n",
       " (1.2515620551739808, 2.748437944825607),\n",
       " (1.2465308140705342, 2.753469185929128),\n",
       " (1.2416001977891507, 2.7583998022105725),\n",
       " (1.2367681938333899, 2.763231806166383),\n",
       " (1.2320328299567402, 2.767967170043074),\n",
       " (1.2273921733576203, 2.7726078266422274),\n",
       " (1.22284432989048, 2.777155670109395),\n",
       " (1.2183874432926804, 2.781612556707217),\n",
       " (1.214019694426835, 2.785980305573081),\n",
       " (1.2097393005383053, 2.790260699461626),\n",
       " (1.2055445145275447, 2.794455485472399),\n",
       " (1.2014336242369983, 2.7985663757629555),\n",
       " (1.197404951752262, 2.8025950482477002),\n",
       " (1.1934568527172198, 2.806543147282749),\n",
       " (1.1895877156628778, 2.8104122843370964),\n",
       " (1.1857959613496223, 2.8142040386503564),\n",
       " (1.1820800421226316, 2.817919957877351),\n",
       " (1.1784384412801803, 2.8215615587198055),\n",
       " (1.1748696724545777, 2.8251303275454105),\n",
       " (1.1713722790054872, 2.828627720994503),\n",
       " (1.1679448334253781, 2.832055166574614),\n",
       " (1.1645859367568712, 2.8354140632431224),\n",
       " (1.1612942180217343, 2.8387057819782604),\n",
       " (1.1580683336613, 2.8419316663386955),\n",
       " (1.1549069669880743, 2.845093033011922),\n",
       " (1.1518088276483132, 2.848191172351684),\n",
       " (1.148772651095347, 2.8512273489046507),\n",
       " (1.1457971980734403, 2.854202801926558),\n",
       " (1.1428812541119717, 2.8571187458880267),\n",
       " (1.1400236290297323, 2.859976370970266),\n",
       " (1.1372231564491377, 2.862776843550861),\n",
       " (1.1344786933201552, 2.865521306679844),\n",
       " (1.1317891194537522, 2.8682108805462474),\n",
       " (1.1291533370646771, 2.8708466629353224),\n",
       " (1.1265702703233835, 2.873429729676616),\n",
       " (1.124038864916916, 2.8759611350830836),\n",
       " (1.1215580876185778, 2.878441912381422),\n",
       " (1.1191269258662062, 2.8808730741337936),\n",
       " (1.116744387348882, 2.8832556126511175),\n",
       " (1.1144094996019045, 2.885590500398095),\n",
       " (1.1121213096098663, 2.8878786903901332),\n",
       " (1.109878883417669, 2.8901211165823306),\n",
       " (1.1076813057493156, 2.892318694250684),\n",
       " (1.1055276796343292, 2.8944723203656704)]"
      ]
     },
     "execution_count": 314,
     "metadata": {},
     "output_type": "execute_result"
    }
   ],
   "source": [
    "traj"
   ]
  },
  {
   "cell_type": "code",
   "execution_count": 315,
   "metadata": {},
   "outputs": [
    {
     "data": {
      "image/png": "[encoded data removed]",
      "text/plain": [
       "<Figure size 432x288 with 2 Axes>"
      ]
     },
     "metadata": {},
     "output_type": "display_data"
    }
   ],
   "source": [
    "nrpts = 50\n",
    "xs = np.linspace(0, 2, num = nrpts)\n",
    "ys = np.linspace(-10, 4, num = nrpts)\n",
    "\n",
    "heatmap = np.zeros((50, 50), dtype = float)\n",
    "for i in range(50):\n",
    "    for j in range(50):\n",
    "        heatmap[i,j] = f(xs[i], ys[j])\n",
    "        \n",
    "heatmap = heatmap / np.max(np.max(heatmap))\n",
    "\n",
    "cmap = plt.get_cmap('YlGnBu')\n",
    "fig, ax = plt.subplots()\n",
    "xsf = np.meshgrid(xs, ys)[0]\n",
    "ysf = np.meshgrid(xs, ys)[1]\n",
    "im = ax.pcolormesh(xsf, ysf, heatmap, cmap=cmap )\n",
    "fig.colorbar(im, ax=ax)\n",
    "\n",
    "#for i in range(len(traj)):\n",
    "plt.scatter([i[0] for i in traj], [i[1] for i in traj], s=3, c='b')\n",
    "\n",
    "plt.plot(traj[-1][0], traj[-1][1], 'ro')\n",
    "\n",
    "plt.show()"
   ]
  },
  {
   "cell_type": "code",
   "execution_count": null,
   "metadata": {},
   "outputs": [],
   "source": []
  },
  {
   "cell_type": "code",
   "execution_count": 318,
   "metadata": {},
   "outputs": [
    {
     "data": {
      "text/plain": [
       "10.0"
      ]
     },
     "execution_count": 318,
     "metadata": {},
     "output_type": "execute_result"
    }
   ],
   "source": [
    "x = np.array([0, -10])\n",
    "np.linalg.norm(x)"
   ]
  },
  {
   "cell_type": "code",
   "execution_count": null,
   "metadata": {},
   "outputs": [],
   "source": []
  },
  {
   "cell_type": "code",
   "execution_count": null,
   "metadata": {},
   "outputs": [],
   "source": []
  },
  {
   "cell_type": "code",
   "execution_count": null,
   "metadata": {},
   "outputs": [],
   "source": [
    "x = np.array([0, -10])\n",
    "alpha = 0.01\n",
    "steps = 100\n",
    "dists = []\n",
    "fvals = [] "
   ]
  },
  {
   "cell_type": "code",
   "execution_count": null,
   "metadata": {},
   "outputs": [],
   "source": [
    "def descent_step(t, x, grad):\n",
    "    xk = x  - t * grad\n",
    "    return xk\n",
    "\n",
    "def run_gradient_descent_traj(alpha, steps, x0, Q, b, xstar):\n",
    "    lambdamax = np.max( np.linalg.eigvals(Q) )\n",
    "    x = x0\n",
    "    \n",
    "    traj = [] #computed trajectory\n",
    "    \n",
    "    for k in range(steps):\n",
    "        grad = quadratic_grad(Q, b, x)\n",
    "        xk = descent_step(alpha, x, grad)\n",
    "        x = xk\n",
    "        traj.append(x)\n",
    "        \n",
    "    return np.vstack(traj)"
   ]
  }
 ],
 "metadata": {
  "kernelspec": {
   "display_name": "Python 3",
   "language": "python",
   "name": "python3"
  },
  "language_info": {
   "codemirror_mode": {
    "name": "ipython",
    "version": 3
   },
   "file_extension": ".py",
   "mimetype": "text/x-python",
   "name": "python",
   "nbconvert_exporter": "python",
   "pygments_lexer": "ipython3",
   "version": "3.6.5"
  }
 },
 "nbformat": 4,
 "nbformat_minor": 2
}
