{
 "cells": [
  {
   "cell_type": "code",
   "execution_count": 316,
   "metadata": {},
   "outputs": [],
   "source": [
    "import numpy as np\n",
    "import matplotlib.pyplot as plt\n",
    "from mpl_toolkits.mplot3d import Axes3D\n",
    "import random\n",
    "import math"
   ]
  },
  {
   "cell_type": "markdown",
   "metadata": {},
   "source": [
    "## Part A"
   ]
  },
  {
   "cell_type": "code",
   "execution_count": 317,
   "metadata": {},
   "outputs": [],
   "source": [
    "dataset = np.load('assignment22.npy')"
   ]
  },
  {
   "cell_type": "code",
   "execution_count": 318,
   "metadata": {},
   "outputs": [],
   "source": [
    "data_x = dataset[:,0]\n",
    "data_y = dataset[:,1]"
   ]
  },
  {
   "cell_type": "markdown",
   "metadata": {},
   "source": [
    "### linear regression"
   ]
  },
  {
   "cell_type": "code",
   "execution_count": 319,
   "metadata": {},
   "outputs": [],
   "source": [
    "## 2/N (-xT y + mxTx + xTb)\n",
    "def dMSE_dm(x, y, m, b):\n",
    "    N = len(x)\n",
    "    b_hat = np.full((N),b)\n",
    "    return (2 / N) * (-x.T.dot(y) + m * x.T.dot(x) + x.T.dot(b_hat))\n",
    "    \n",
    "def dMSE_db(x, y, m, b):\n",
    "    N = len(y)\n",
    "    one = np.ones(N)\n",
    "    b_hat = np.full((N),b)\n",
    "    return (2 / N) * (-one.T.dot(y) + m * one.T.dot(x) + one.T.dot(b_hat))\n",
    "\n",
    "def run_gradient_descent_conv_linear(alpha, steps, x0, y0, m, b):\n",
    "    \n",
    "    dists = [] \n",
    "    fvals = []\n",
    "    \n",
    "    mm = []\n",
    "    bb = []\n",
    "    \n",
    "    #for k in range(steps):\n",
    "    while True:\n",
    "        temp_0 = m - alpha * dMSE_dm(x0, y0, m, b)\n",
    "        temp_1 = b - alpha * dMSE_db(x0, y0, m, b)\n",
    "        m = temp_0\n",
    "        b = temp_1\n",
    "        \n",
    "        mm.append(m)\n",
    "        bb.append(b)\n",
    "        \n",
    "        check = math.sqrt((dMSE_dm(x0, y0, m, b))**2 + (dMSE_db(x0, y0, m, b))**2)\n",
    "        precision = 10 ** (-5)\n",
    "        if check < precision:\n",
    "            break\n",
    "\n",
    "    return mm, bb"
   ]
  },
  {
   "cell_type": "code",
   "execution_count": 320,
   "metadata": {},
   "outputs": [],
   "source": [
    "m_init = random.uniform(0.1,2)\n",
    "b_init = random.uniform(0.1,100)\n",
    "\n",
    "steps = 50\n",
    "alpha = 0.1"
   ]
  },
  {
   "cell_type": "code",
   "execution_count": 321,
   "metadata": {},
   "outputs": [],
   "source": [
    "traj_m, traj_b = run_gradient_descent_conv_linear(alpha, steps, data_x, data_y, m_init, b_init)  ##TODO: update initial values"
   ]
  },
  {
   "cell_type": "code",
   "execution_count": 322,
   "metadata": {
    "scrolled": true
   },
   "outputs": [
    {
     "data": {
      "text/plain": [
       "(2.8176418216721153, 14.215949649057654)"
      ]
     },
     "execution_count": 322,
     "metadata": {},
     "output_type": "execute_result"
    }
   ],
   "source": [
    "m_linear_final = traj_m[-1]\n",
    "b_linear_final = traj_b[-1]\n",
    "\n",
    "m_linear_final, b_linear_final"
   ]
  },
  {
   "cell_type": "markdown",
   "metadata": {},
   "source": [
    "### quadratic regression"
   ]
  },
  {
   "cell_type": "code",
   "execution_count": 323,
   "metadata": {},
   "outputs": [],
   "source": [
    "#def dMSE_dm(x, y, m, b):\n",
    "#    N = len(x)\n",
    "#    b_hat = np.full((N),b)\n",
    "#    return (2 / N) * (-x.T.dot(y) + m * x.T.dot(x) + x.T.dot(b_hat))\n",
    "\n",
    "def dMSE_dm1(x, y, m1, m2, b):\n",
    "    N = len(x)\n",
    "    b_hat = np.full((N),b)\n",
    "    return (2 / N) * (-x.T.dot(y) + m1 * x.T.dot(x) + m2 * (x.T.dot(x**2)) + x.T.dot(b_hat))\n",
    "    \n",
    "def dMSE_dm2(x, y, m1, m2, b):\n",
    "    N = len(x)\n",
    "    b_hat = np.full((N),b)\n",
    "    return (2 / N) * (-(x**2).T.dot(y) + m1 * (x**2).T.dot(x) + m2 * (x**2).T.dot(x**2) + (x**2).T.dot(b_hat))\n",
    "    \n",
    "def dMSE_db(x, y, m1, m2, b):\n",
    "    N = len(y)\n",
    "    one = np.ones(N)\n",
    "    b_hat = np.full((N),b)\n",
    "    return (2 / N) * (-one.T.dot(y) + m1 * one.T.dot(x) + m2 * one.T.dot(x**2) + one.T.dot(b_hat))\n",
    "\n",
    "def run_gradient_descent_conv_quadratic(alpha, steps, x, y, m1, m2, b):\n",
    "    mm1 = []\n",
    "    mm2 = []\n",
    "    bb = []\n",
    "    \n",
    "    #for k in range(steps):\n",
    "    while True:\n",
    "        temp_m1 = m1 - alpha * dMSE_dm1(x, y, m1, m2, b)\n",
    "        temp_m2 = m2 - alpha * dMSE_dm2(x, y, m1, m2, b)\n",
    "        temp_b = b - alpha * dMSE_db(x, y, m1, m2, b)\n",
    "        \n",
    "        m1 = temp_m1\n",
    "        m2 = temp_m2\n",
    "        b = temp_b\n",
    "        \n",
    "        mm1.append(m1)\n",
    "        mm2.append(m2)\n",
    "        bb.append(b)\n",
    "        \n",
    "        check = math.sqrt((dMSE_dm1(x, y, m1, m2, b))**2 + (dMSE_dm2(x, y, m1, m2, b))**2 + (dMSE_db(x, y, m1, m2, b))**2)\n",
    "        precision = 10 ** (-5)\n",
    "        if check < precision:\n",
    "            break\n",
    "\n",
    "    return mm1, mm2, bb"
   ]
  },
  {
   "cell_type": "code",
   "execution_count": 324,
   "metadata": {},
   "outputs": [
    {
     "data": {
      "text/plain": [
       "(2.5197391752125733, 0.8905117680929417, 6.45852079502104)"
      ]
     },
     "execution_count": 324,
     "metadata": {},
     "output_type": "execute_result"
    }
   ],
   "source": [
    "m1_init = random.uniform(0.1,2)\n",
    "m2_init = random.uniform(0.1,2)\n",
    "b_init = random.uniform(0.1,100)\n",
    "\n",
    "alpha = 0.001\n",
    "steps = 50000\n",
    "\n",
    "m1_traj, m2_traj, b_traj = run_gradient_descent_conv_quadratic(alpha, steps, data_x, data_y, m1_init, m2_init, b_init)\n",
    "\n",
    "m1_final = m1_traj[-1]\n",
    "m2_final = m2_traj[-1]\n",
    "b_quad_final = b_traj[-1]\n",
    "\n",
    "m1_final, m2_final, b_quad_final"
   ]
  },
  {
   "cell_type": "code",
   "execution_count": 325,
   "metadata": {},
   "outputs": [
    {
     "data": {
      "text/plain": [
       "array([ 2.80279615,  3.36499258,  2.10627673,  4.24088454, -1.46983915,\n",
       "       -3.14543655,  3.23283112, -3.47311833,  1.36313714, -1.70510388,\n",
       "       -2.90777332,  4.71534527, -2.35821381,  3.21897894, -2.40612945,\n",
       "        2.39089568, -3.12978138, -0.72033643,  4.18651752,  1.42768446,\n",
       "        4.46362679,  1.00767725, -4.00872255, -0.35585149,  1.00587603,\n",
       "       -1.23385265, -2.96429364, -4.18680088, -2.8296431 , -4.22814435])"
      ]
     },
     "execution_count": 325,
     "metadata": {},
     "output_type": "execute_result"
    }
   ],
   "source": [
    "data_x"
   ]
  },
  {
   "cell_type": "code",
   "execution_count": 326,
   "metadata": {},
   "outputs": [
    {
     "data": {
      "image/png": "[encoded data removed]",
      "text/plain": [
       "<Figure size 432x288 with 1 Axes>"
      ]
     },
     "metadata": {},
     "output_type": "display_data"
    }
   ],
   "source": [
    "\n",
    "xx_quad=[]\n",
    "yy_quad=[]\n",
    "\n",
    "for x in np.linspace(-5, 5, num=100):\n",
    "    y= m1_final * (x**2) + m2_final * x + b_quad_final\n",
    "    xx_quad.append(x)\n",
    "    yy_quad.append(y)\n",
    "\n",
    "fig=plt.figure()\n",
    "axes=fig.add_subplot(111)\n",
    "axes.plot(xx_quad,yy_quad)\n",
    "\n",
    "xx_linear=[]\n",
    "yy_linear=[]\n",
    "for x in np.linspace(-5, 5, num=100):\n",
    "    y= m_linear_final * x + b_linear_final\n",
    "    xx_linear.append(x)\n",
    "    yy_linear.append(y)\n",
    "    \n",
    "\n",
    "axes.plot(xx_linear,yy_linear)\n",
    "\n",
    "plt.scatter(data_x, data_y, s=10, c='red')\n",
    "\n",
    "plt.show()\n"
   ]
  },
  {
   "cell_type": "code",
   "execution_count": null,
   "metadata": {},
   "outputs": [],
   "source": []
  },
  {
   "cell_type": "markdown",
   "metadata": {},
   "source": [
    "## Part B\n",
    "\n",
    "f(x,y) = (x+2y-7)^2 + (2x+y-5)^2"
   ]
  },
  {
   "cell_type": "code",
   "execution_count": 327,
   "metadata": {},
   "outputs": [],
   "source": [
    "def f(x,y):\n",
    "    return (x + 2* y - 7) ** 2 + (2 * x + y - 5) ** 2\n",
    "\n",
    "def df_dx(x,y):\n",
    "    return 10*x + 8*y - 34\n",
    "    \n",
    "def df_dy(x,y):\n",
    "    return 8*x + 10*y - 38\n",
    "\n",
    "def run_gradient_descent_conv(alpha, steps, x, y):\n",
    "    trajectories = [(x,y)]\n",
    "\n",
    "    for k in range(steps):\n",
    "        temp_x = x - alpha * df_dx(x,y)\n",
    "        temp_y = y - alpha * df_dy(x,y)\n",
    "        \n",
    "        x = temp_x\n",
    "        y = temp_y\n",
    "        \n",
    "        trajectories.append((x,y))\n",
    "    \n",
    "    return trajectories"
   ]
  },
  {
   "cell_type": "code",
   "execution_count": 328,
   "metadata": {},
   "outputs": [],
   "source": [
    "x0 = 0\n",
    "y0 = -10\n",
    "\n",
    "steps = 200\n",
    "alpha = 0.01\n",
    "\n",
    "traj = run_gradient_descent_conv(alpha, steps, x0, y0)"
   ]
  },
  {
   "cell_type": "code",
   "execution_count": 329,
   "metadata": {},
   "outputs": [
    {
     "data": {
      "image/png": "[encoded data removed]",
      "text/plain": [
       "<Figure size 432x288 with 2 Axes>"
      ]
     },
     "metadata": {},
     "output_type": "display_data"
    }
   ],
   "source": [
    "nrpts = 50\n",
    "xs = np.linspace(0, 2, num = nrpts)\n",
    "ys = np.linspace(-10, 4, num = nrpts)\n",
    "\n",
    "heatmap = np.zeros((50, 50), dtype = float)\n",
    "for i in range(50):\n",
    "    for j in range(50):\n",
    "        heatmap[i,j] = f(xs[i], ys[j])\n",
    "        \n",
    "heatmap = heatmap / np.max(np.max(heatmap))\n",
    "\n",
    "cmap = plt.get_cmap('YlGnBu')\n",
    "fig, ax = plt.subplots()\n",
    "xsf = np.meshgrid(xs, ys)[0]\n",
    "ysf = np.meshgrid(xs, ys)[1]\n",
    "im = ax.pcolormesh(xsf, ysf, heatmap, cmap=cmap )\n",
    "fig.colorbar(im, ax=ax)\n",
    "\n",
    "#for i in range(len(traj)):\n",
    "plt.scatter([i[0] for i in traj], [i[1] for i in traj], s=3, c='b')\n",
    "\n",
    "plt.plot(traj[-1][0], traj[-1][1], 'ro')\n",
    "\n",
    "plt.show()"
   ]
  },
  {
   "cell_type": "code",
   "execution_count": null,
   "metadata": {},
   "outputs": [],
   "source": []
  }
 ],
 "metadata": {
  "kernelspec": {
   "display_name": "Python 3",
   "language": "python",
   "name": "python3"
  },
  "language_info": {
   "codemirror_mode": {
    "name": "ipython",
    "version": 3
   },
   "file_extension": ".py",
   "mimetype": "text/x-python",
   "name": "python",
   "nbconvert_exporter": "python",
   "pygments_lexer": "ipython3",
   "version": "3.7.0"
  }
 },
 "nbformat": 4,
 "nbformat_minor": 2
}
