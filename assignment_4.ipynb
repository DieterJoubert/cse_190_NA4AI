{
 "cells": [
  {
   "cell_type": "code",
   "execution_count": 179,
   "metadata": {},
   "outputs": [],
   "source": [
    "import numpy as np"
   ]
  },
  {
   "cell_type": "code",
   "execution_count": 180,
   "metadata": {},
   "outputs": [],
   "source": [
    "dataset = np.load('assignment22.npy')"
   ]
  },
  {
   "cell_type": "code",
   "execution_count": 181,
   "metadata": {},
   "outputs": [
    {
     "data": {
      "text/plain": [
       "array([[ 2.80279615, 20.17097497],\n",
       "       [ 3.36499258, 25.36344856],\n",
       "       [ 2.10627673, 16.01336047],\n",
       "       [ 4.24088454, 33.78574646],\n",
       "       [-1.46983915,  5.11572844],\n",
       "       [-3.14543655,  6.53009318],\n",
       "       [ 3.23283112, 23.27003471],\n",
       "       [-3.47311833,  8.83537733],\n",
       "       [ 1.36313714, 11.33293682],\n",
       "       [-1.70510388,  5.46388104]])"
      ]
     },
     "execution_count": 181,
     "metadata": {},
     "output_type": "execute_result"
    }
   ],
   "source": [
    "dataset[:10]"
   ]
  },
  {
   "cell_type": "code",
   "execution_count": 182,
   "metadata": {},
   "outputs": [],
   "source": [
    "x = dataset[:,0]\n",
    "y = dataset[:,1]"
   ]
  },
  {
   "cell_type": "code",
   "execution_count": 183,
   "metadata": {},
   "outputs": [],
   "source": [
    "## 2/N (-xT y + mxTx + xTb)\n",
    "def dMSE_dm(x, y, m, b):\n",
    "    N = len(x)\n",
    "    b_hat = np.full((N),b)\n",
    "    return (2 / N) * (-x.T.dot(y) + m * x.T.dot(x) + x.T.dot(b_hat))\n",
    "    \n",
    "def dMSE_db(x, y, m, b):\n",
    "    N = len(y)\n",
    "    one = np.ones(N)\n",
    "    b_hat = np.full((N),b)\n",
    "    return (2 / N) * (-one.T.dot(y) + m * one.T.dot(x) + one.T.dot(b_hat))"
   ]
  },
  {
   "cell_type": "code",
   "execution_count": 184,
   "metadata": {},
   "outputs": [],
   "source": [
    "def run_gradient_descent_conv(alpha, steps, x0, y0, m, b):\n",
    "    \n",
    "    dists = [] \n",
    "    fvals = []\n",
    "    \n",
    "    mm = []\n",
    "    bb = []\n",
    "    \n",
    "    for k in range(steps):\n",
    "        temp_0 = m - alpha * dMSE_dm(x0, y0, m, b)\n",
    "        temp_1 = b - alpha * dMSE_db(x0, y0, m, b)\n",
    "        m = temp_0\n",
    "        b = temp_1\n",
    "        \n",
    "        mm.append(m)\n",
    "        bb.append(b)\n",
    "\n",
    "    return mm, bb"
   ]
  },
  {
   "cell_type": "code",
   "execution_count": null,
   "metadata": {},
   "outputs": [],
   "source": []
  },
  {
   "cell_type": "code",
   "execution_count": 185,
   "metadata": {},
   "outputs": [
    {
     "data": {
      "text/plain": [
       "(array([ 0.81957993, -1.58104017]), 50, 0.1)"
      ]
     },
     "execution_count": 185,
     "metadata": {},
     "output_type": "execute_result"
    }
   ],
   "source": [
    "x, y\n",
    "steps = 50\n",
    "alpha = 0.1\n",
    "\n",
    "x0, steps, alpha"
   ]
  },
  {
   "cell_type": "code",
   "execution_count": 186,
   "metadata": {},
   "outputs": [],
   "source": [
    "mm, bb = run_gradient_descent_conv(alpha, steps, x, y, 0.5, 0.5)  ##TODO: update initial values"
   ]
  },
  {
   "cell_type": "code",
   "execution_count": 187,
   "metadata": {
    "scrolled": true
   },
   "outputs": [
    {
     "data": {
      "text/plain": [
       "2.8176398413526154"
      ]
     },
     "execution_count": 187,
     "metadata": {},
     "output_type": "execute_result"
    }
   ],
   "source": [
    "mm[-1]"
   ]
  },
  {
   "cell_type": "code",
   "execution_count": 188,
   "metadata": {},
   "outputs": [
    {
     "data": {
      "text/plain": [
       "14.215748668457293"
      ]
     },
     "execution_count": 188,
     "metadata": {},
     "output_type": "execute_result"
    }
   ],
   "source": [
    "bb[-1]"
   ]
  },
  {
   "cell_type": "code",
   "execution_count": null,
   "metadata": {},
   "outputs": [],
   "source": []
  },
  {
   "cell_type": "code",
   "execution_count": null,
   "metadata": {},
   "outputs": [],
   "source": [
    "def dMSE_dm1(x, y, m1, m2, b):\n",
    "    N = len(x)\n",
    "    b_hat = np.full((N),b)\n",
    "    return (2 / N) * (-x.T.dot(y) + m * x.T.dot(x) + x.T.dot(b_hat))\n",
    "    \n",
    "def dMSE_dm2(x, y, m1, m2, b):\n",
    "    N = len(x)\n",
    "    b_hat = np.full((N),b)\n",
    "    return (2 / N) * (-x.T.dot(y) + m * x.T.dot(x) + x.T.dot(b_hat))\n",
    "    \n",
    "def dMSE_db(x, y, m1, m2ail\n",
    "            , b):\n",
    "    N = len(y)\n",
    "    one = np.ones(N)\n",
    "    b_hat = np.full((N),b)\n",
    "    return (2 / N) * (-one.T.dot(y) + m * one.T.dot(x) + one.T.dot(b_hat))"
   ]
  },
  {
   "cell_type": "code",
   "execution_count": null,
   "metadata": {},
   "outputs": [],
   "source": [
    "def run_gradient_descent_conv(alpha, steps, x0, y0, m, b):\n",
    "    mm1 = []\n",
    "    mm2 = []\n",
    "    bb = []\n",
    "    \n",
    "    for k in range(steps):\n",
    "        temp_m1 = m - alpha * dMSE_dm1(x0, y0, m, b)\n",
    "        temp_m2 = m - alpha * dMSE_dm2(x0, y0, m, b)\n",
    "        temp_b = b - alpha * dMSE_db(x0, y0, m, b)\n",
    "        \n",
    "        m1 = temp_m1\n",
    "        m2 = temp_m2\n",
    "        b = temp_b\n",
    "        \n",
    "        mm1.append(m1)\n",
    "        mm2.append(m2)\n",
    "        bb.append(b)\n",
    "\n",
    "    return mm, bb"
   ]
  },
  {
   "cell_type": "code",
   "execution_count": null,
   "metadata": {},
   "outputs": [],
   "source": []
  },
  {
   "cell_type": "code",
   "execution_count": null,
   "metadata": {},
   "outputs": [],
   "source": []
  },
  {
   "cell_type": "markdown",
   "metadata": {},
   "source": [
    "## Part B\n",
    "\n",
    "f(x,y) = (x+2y-7)^2 + (2x+y-5)^2"
   ]
  },
  {
   "cell_type": "code",
   "execution_count": 209,
   "metadata": {},
   "outputs": [],
   "source": [
    "def df_dx(x,y):\n",
    "    return 10*x + 8*y - 34\n",
    "    \n",
    "def df_dy(x,y):\n",
    "    return 8*x + 10*y - 38\n",
    "\n",
    "def run_gradient_descent_conv(alpha, steps, x, y):\n",
    "    trajectories = [(x,y)]\n",
    "\n",
    "    for k in range(steps):\n",
    "        temp_x = x - alpha * df_dx(x,y)\n",
    "        temp_y = y - alpha * df_dy(x,y)\n",
    "        \n",
    "        x = temp_x\n",
    "        y = temp_y\n",
    "        \n",
    "        trajectories.append((x,y))\n",
    "    \n",
    "    return trajectories"
   ]
  },
  {
   "cell_type": "code",
   "execution_count": 210,
   "metadata": {},
   "outputs": [],
   "source": [
    "traj = run_gradient_descent_conv(0.01, 50, 0, -10)\n"
   ]
  },
  {
   "cell_type": "code",
   "execution_count": 211,
   "metadata": {},
   "outputs": [
    {
     "data": {
      "text/plain": [
       "[(0, -10),\n",
       " (1.1400000000000001, -8.62),\n",
       " (2.0556, -7.469199999999999),\n",
       " (2.787576, -6.506727999999999),\n",
       " (3.36935664, -5.699061279999999),\n",
       " (3.8283458784, -5.018703683199999),\n",
       " (4.187007585216, -4.443100985151999),\n",
       " (4.463754905506559, -3.9537514934540794),\n",
       " (4.67367953443223, -3.5354767365491964),\n",
       " (4.829149719912943, -3.175823425648855),\n",
       " (4.940300621973557, -2.864573060677005),\n",
       " (5.0154364046303614, -2.5933398043671887),\n",
       " (5.0613599485167, -2.3552407363008987),\n",
       " (5.083643212569102, -2.1446254585521447),\n",
       " (5.086848927996364, -1.9568543697024583),\n",
       " (5.0747123847729245, -1.7881168469719215),\n",
       " (5.050290494053386, -1.6352821530565633),\n",
       " (5.016084016892573, -1.4957771772751778),\n",
       " (4.97413778938533, -1.367486180899066),\n",
       " (4.9261229049187225, -1.2486685859599858),\n",
       " (4.873404101303649, -1.137891559757485),\n",
       " (4.817095015953883, -1.0339747318860284),\n",
       " (4.758103492909377, -0.9359448599737362),\n",
       " (4.697168732416338, -0.8429986534091127),\n",
       " (4.634891751447433, -0.7544722866615085),\n",
       " (4.57176035923561, -0.6698163981111522),\n",
       " (4.508169635160941, -0.5885755870388859),\n",
       " (4.444438718607958, -0.5103715991478726),\n",
       " (4.380824574678992, -0.4348895367217219),\n",
       " (4.31753328014883, -0.3618665490238691),\n",
       " (4.254729276055857, -0.29108255653338866),\n",
       " (4.192542952972942, -0.22235264296451832),\n",
       " (4.1310768691128095, -0.15552081490590183),\n",
       " (4.070410847394001, -0.09045488294433639),\n",
       " (4.010606153290148, -0.027042262441422826),\n",
       " (3.951708918956447, 0.03481347153950762),\n",
       " (3.8937529493376415, 0.0951954108690411),\n",
       " (3.836762021534354, 0.1541756338351257),\n",
       " (3.780751768674109, 0.2118171087288648),\n",
       " (3.725731223108389, 0.2681752563620496),\n",
       " (3.671704080288586, 0.32329923287717355),\n",
       " (3.6186697336295537, 0.37723298316636933),\n",
       " (3.566624121613289, 0.4300161061593681),\n",
       " (3.5155604209592104, 0.4816845658143682),\n",
       " (3.46546961359814, 0.5322712755561945),\n",
       " (3.4163409501938307, 0.5818065789127238),\n",
       " (3.3681623288614295, 0.630318645005945),\n",
       " (3.3209206043748107, 0.6778337941964362),\n",
       " (3.2746018404016146, 0.7243767664268077),\n",
       " (3.2291915150473085, 0.7699709425519977),\n",
       " (3.1846746881384176, 0.8146385270930132)]"
      ]
     },
     "execution_count": 211,
     "metadata": {},
     "output_type": "execute_result"
    }
   ],
   "source": [
    "traj"
   ]
  },
  {
   "cell_type": "code",
   "execution_count": null,
   "metadata": {},
   "outputs": [],
   "source": []
  }
 ],
 "metadata": {
  "kernelspec": {
   "display_name": "Python 3",
   "language": "python",
   "name": "python3"
  },
  "language_info": {
   "codemirror_mode": {
    "name": "ipython",
    "version": 3
   },
   "file_extension": ".py",
   "mimetype": "text/x-python",
   "name": "python",
   "nbconvert_exporter": "python",
   "pygments_lexer": "ipython3",
   "version": "3.6.5"
  }
 },
 "nbformat": 4,
 "nbformat_minor": 2
}
