{
 "cells": [
  {
   "cell_type": "code",
   "execution_count": 83,
   "metadata": {},
   "outputs": [],
   "source": [
    "import numpy as np\n",
    "import matplotlib.pyplot as plt\n",
    "from mpl_toolkits.mplot3d import Axes3D\n",
    "import random\n",
    "import math"
   ]
  },
  {
   "cell_type": "code",
   "execution_count": 84,
   "metadata": {},
   "outputs": [],
   "source": [
    "n = 2000\n",
    "m = 500\n",
    "\n",
    "#matrix\n",
    "A = np.matrix(np.load('assignment0828_A.npy'))\n",
    "\n",
    "#vector\n",
    "b = np.load('assignment0828_B.npy')"
   ]
  },
  {
   "cell_type": "code",
   "execution_count": 85,
   "metadata": {},
   "outputs": [
    {
     "data": {
      "text/plain": [
       "(500, 2000)"
      ]
     },
     "execution_count": 85,
     "metadata": {},
     "output_type": "execute_result"
    }
   ],
   "source": [
    "A.shape"
   ]
  },
  {
   "cell_type": "code",
   "execution_count": 86,
   "metadata": {},
   "outputs": [
    {
     "data": {
      "text/plain": [
       "(500, 1)"
      ]
     },
     "execution_count": 86,
     "metadata": {},
     "output_type": "execute_result"
    }
   ],
   "source": [
    "b.shape"
   ]
  },
  {
   "cell_type": "markdown",
   "metadata": {},
   "source": [
    "![title](img.png)"
   ]
  },
  {
   "cell_type": "code",
   "execution_count": 87,
   "metadata": {},
   "outputs": [
    {
     "data": {
      "text/plain": [
       "array([1, 2, 3, 4, 4])"
      ]
     },
     "execution_count": 87,
     "metadata": {},
     "output_type": "execute_result"
    }
   ],
   "source": [
    "x"
   ]
  },
  {
   "cell_type": "code",
   "execution_count": null,
   "metadata": {},
   "outputs": [],
   "source": []
  },
  {
   "cell_type": "code",
   "execution_count": 88,
   "metadata": {},
   "outputs": [],
   "source": [
    "def T(x, t):\n",
    "    np.sign(x) * np.maximum(np.abs(x) - l, 0.)\n",
    "\n",
    "def ista(A, b, steps):\n",
    "    x = np.zeros(A.shape[1])\n",
    "    \n",
    "    print(\"----------\")\n",
    "    print(A)\n",
    "    test = np.linalg.eig(A.T.dot(A))\n",
    "    print(\"eigenvalues:\")\n",
    "    print(test)\n",
    "    \n",
    "    t = 1 / np.amax(np.linalg.eigvals(A.T.dot(A)))\n",
    "\n",
    "    for _ in xrange(maxit):\n",
    "        x = T(x - t * A.T.dot(A * x - b))\n",
    "        \n",
    "    return x"
   ]
  },
  {
   "cell_type": "code",
   "execution_count": 79,
   "metadata": {},
   "outputs": [
    {
     "name": "stdout",
     "output_type": "stream",
     "text": [
      "----------\n",
      "[[ 1.14299996  2.64359521  0.38319623 ... -0.11534808  1.8013339\n",
      "   1.26887333]\n",
      " [-0.58779088 -0.46103007  0.18341947 ...  0.46601898  0.18596362\n",
      "  -0.43978442]\n",
      " [ 0.98293707 -0.30755999  0.12477444 ... -2.0755718  -1.58003366\n",
      "  -0.04756905]\n",
      " ...\n",
      " [ 0.17702079  0.08863024 -0.98462991 ... -0.84455547  0.03722876\n",
      "  -0.71777357]\n",
      " [-0.31493105  1.85283303  1.25764289 ... -0.01957827 -0.27036844\n",
      "  -0.65455169]\n",
      " [-0.93397056  0.45256222 -1.41029796 ...  0.91689784  0.47188524\n",
      "  -0.19437386]]\n",
      "eigenvalues:\n",
      "(array([4.45323081e+03+0.00000000e+00j, 4.42490579e+03+0.00000000e+00j,\n",
      "       4.35319819e+03+0.00000000e+00j, ...,\n",
      "       3.27657646e-14+0.00000000e+00j, 4.98481686e-14+6.36493284e-16j,\n",
      "       4.98481686e-14-6.36493284e-16j]), matrix([[-1.83695002e-02+0.j        , -9.60363036e-03+0.j        ,\n",
      "          3.96400325e-02+0.j        , ...,  3.58922077e-03+0.j        ,\n",
      "          1.83750560e-02+0.00130565j,  1.83750560e-02-0.00130565j],\n",
      "        [ 1.97947863e-02+0.j        , -1.43020526e-02+0.j        ,\n",
      "          3.53598470e-03+0.j        , ...,  6.81976515e-04+0.j        ,\n",
      "         -1.12689978e-02+0.00084149j, -1.12689978e-02-0.00084149j],\n",
      "        [ 1.19081717e-02+0.j        , -2.48779971e-02+0.j        ,\n",
      "         -1.29311382e-03+0.j        , ..., -2.91955883e-03+0.j        ,\n",
      "         -2.81331122e-03+0.00056714j, -2.81331122e-03-0.00056714j],\n",
      "        ...,\n",
      "        [ 3.28211649e-02+0.j        , -4.21717430e-02+0.j        ,\n",
      "         -1.65795534e-02+0.j        , ...,  3.85664005e-02+0.j        ,\n",
      "         -8.49317772e-03+0.00747218j, -8.49317772e-03-0.00747218j],\n",
      "        [-1.77188332e-02+0.j        , -1.45434474e-02+0.j        ,\n",
      "          2.05284111e-02+0.j        , ..., -1.99442609e-02+0.j        ,\n",
      "          9.06925258e-03-0.00469216j,  9.06925258e-03+0.00469216j],\n",
      "        [-2.82441916e-05+0.j        , -1.30273953e-02+0.j        ,\n",
      "         -1.72238815e-02+0.j        , ...,  1.31112474e-03+0.j        ,\n",
      "         -1.64816734e-02-0.00849105j, -1.64816734e-02+0.00849105j]]))\n"
     ]
    },
    {
     "ename": "NameError",
     "evalue": "name 'xrange' is not defined",
     "output_type": "error",
     "traceback": [
      "\u001b[0;31m---------------------------------------------------------------------------\u001b[0m",
      "\u001b[0;31mNameError\u001b[0m                                 Traceback (most recent call last)",
      "\u001b[0;32m<ipython-input-79-c2d9025415d1>\u001b[0m in \u001b[0;36m<module>\u001b[0;34m()\u001b[0m\n\u001b[0;32m----> 1\u001b[0;31m \u001b[0mout\u001b[0m \u001b[0;34m=\u001b[0m \u001b[0mista\u001b[0m\u001b[0;34m(\u001b[0m\u001b[0mA\u001b[0m\u001b[0;34m,\u001b[0m \u001b[0mb\u001b[0m\u001b[0;34m,\u001b[0m \u001b[0msteps\u001b[0m\u001b[0;34m)\u001b[0m\u001b[0;34m\u001b[0m\u001b[0m\n\u001b[0m",
      "\u001b[0;32m<ipython-input-78-37577c9ee87f>\u001b[0m in \u001b[0;36mista\u001b[0;34m(A, b, steps)\u001b[0m\n\u001b[1;32m     13\u001b[0m     \u001b[0mt\u001b[0m \u001b[0;34m=\u001b[0m \u001b[0;36m1\u001b[0m \u001b[0;34m/\u001b[0m \u001b[0mnp\u001b[0m\u001b[0;34m.\u001b[0m\u001b[0mamax\u001b[0m\u001b[0;34m(\u001b[0m\u001b[0mnp\u001b[0m\u001b[0;34m.\u001b[0m\u001b[0mlinalg\u001b[0m\u001b[0;34m.\u001b[0m\u001b[0meigvals\u001b[0m\u001b[0;34m(\u001b[0m\u001b[0mA\u001b[0m\u001b[0;34m.\u001b[0m\u001b[0mT\u001b[0m\u001b[0;34m.\u001b[0m\u001b[0mdot\u001b[0m\u001b[0;34m(\u001b[0m\u001b[0mA\u001b[0m\u001b[0;34m)\u001b[0m\u001b[0;34m)\u001b[0m\u001b[0;34m)\u001b[0m\u001b[0;34m\u001b[0m\u001b[0m\n\u001b[1;32m     14\u001b[0m \u001b[0;34m\u001b[0m\u001b[0m\n\u001b[0;32m---> 15\u001b[0;31m     \u001b[0;32mfor\u001b[0m \u001b[0m_\u001b[0m \u001b[0;32min\u001b[0m \u001b[0mxrange\u001b[0m\u001b[0;34m(\u001b[0m\u001b[0mmaxit\u001b[0m\u001b[0;34m)\u001b[0m\u001b[0;34m:\u001b[0m\u001b[0;34m\u001b[0m\u001b[0m\n\u001b[0m\u001b[1;32m     16\u001b[0m         \u001b[0mx\u001b[0m \u001b[0;34m=\u001b[0m \u001b[0mT\u001b[0m\u001b[0;34m(\u001b[0m\u001b[0mx\u001b[0m \u001b[0;34m-\u001b[0m \u001b[0mt\u001b[0m \u001b[0;34m*\u001b[0m \u001b[0mA\u001b[0m\u001b[0;34m.\u001b[0m\u001b[0mT\u001b[0m\u001b[0;34m.\u001b[0m\u001b[0mdot\u001b[0m\u001b[0;34m(\u001b[0m\u001b[0mA\u001b[0m \u001b[0;34m*\u001b[0m \u001b[0mx\u001b[0m \u001b[0;34m-\u001b[0m \u001b[0mb\u001b[0m\u001b[0;34m)\u001b[0m\u001b[0;34m)\u001b[0m\u001b[0;34m\u001b[0m\u001b[0m\n\u001b[1;32m     17\u001b[0m \u001b[0;34m\u001b[0m\u001b[0m\n",
      "\u001b[0;31mNameError\u001b[0m: name 'xrange' is not defined"
     ]
    }
   ],
   "source": [
    "out = ista(A, b, steps)"
   ]
  },
  {
   "cell_type": "code",
   "execution_count": null,
   "metadata": {},
   "outputs": [],
   "source": [
    "out"
   ]
  },
  {
   "cell_type": "code",
   "execution_count": null,
   "metadata": {},
   "outputs": [],
   "source": [
    "# def soft_thresh(x, l):\n",
    "#     return np.sign(x) * np.maximum(np.abs(x) - l, 0.)\n",
    "\n",
    "# def ista(A, b, l, steps):\n",
    "#     x = np.zeros(A.shape[1])\n",
    "\n",
    "#     L = linalg.norm(A) ** 2  # Lipschitz constant\n",
    "\n",
    "#     for _ in xrange(maxit):\n",
    "#         x = soft_thresh(x + np.dot(A.T, b - A.dot(x)) / L, \n",
    "#                         l / L)\n",
    "        \n",
    "#     return x\n",
    "\n",
    "# ##  x^(k+1)\n",
    "\n",
    "\n",
    "# steps = 5000\n",
    "# x = ista(A, b, l, steps)\n"
   ]
  }
 ],
 "metadata": {
  "kernelspec": {
   "display_name": "Python 3",
   "language": "python",
   "name": "python3"
  },
  "language_info": {
   "codemirror_mode": {
    "name": "ipython",
    "version": 3
   },
   "file_extension": ".py",
   "mimetype": "text/x-python",
   "name": "python",
   "nbconvert_exporter": "python",
   "pygments_lexer": "ipython3",
   "version": "3.6.5"
  }
 },
 "nbformat": 4,
 "nbformat_minor": 2
}
