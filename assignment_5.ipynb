{
 "cells": [
  {
   "cell_type": "code",
   "execution_count": 9,
   "metadata": {},
   "outputs": [],
   "source": [
    "import numpy as np\n",
    "import matplotlib.pyplot as plt\n",
    "from mpl_toolkits.mplot3d import Axes3D\n",
    "import random\n",
    "import math"
   ]
  },
  {
   "cell_type": "code",
   "execution_count": 10,
   "metadata": {},
   "outputs": [],
   "source": [
    "n = 2000\n",
    "m = 500\n",
    "\n",
    "#matrix\n",
    "A = np.load('assignment0828_A.npy')\n",
    "\n",
    "#vector\n",
    "b = np.array(np.load('assignment0828_B.npy'))\n",
    "b = np.squeeze(np.asarray(b))"
   ]
  },
  {
   "cell_type": "code",
   "execution_count": 11,
   "metadata": {},
   "outputs": [
    {
     "data": {
      "text/plain": [
       "(500, 2000)"
      ]
     },
     "execution_count": 11,
     "metadata": {},
     "output_type": "execute_result"
    }
   ],
   "source": [
    "A.shape"
   ]
  },
  {
   "cell_type": "code",
   "execution_count": 12,
   "metadata": {},
   "outputs": [
    {
     "data": {
      "text/plain": [
       "(500,)"
      ]
     },
     "execution_count": 12,
     "metadata": {},
     "output_type": "execute_result"
    }
   ],
   "source": [
    "b.shape"
   ]
  },
  {
   "cell_type": "code",
   "execution_count": 13,
   "metadata": {},
   "outputs": [],
   "source": [
    "xrange = range ## to solve compatibility issue between python 2 and 3\n",
    "\n",
    "steps = 5000\n",
    "\n",
    "def T(x, t):\n",
    "    return np.sign(x) * np.maximum(np.abs(x) - t, 0.)\n",
    "\n",
    "def ista(A, b, steps, p):\n",
    "    x = np.zeros(A.shape[1])\n",
    "    t = 1 / np.amax(np.linalg.eigvals(A.T.dot(A)))\n",
    "\n",
    "    for k in range(steps):       \n",
    "        x = T(x - t * A.T.dot(A.dot(x) - b), t)\n",
    "        \n",
    "    return x"
   ]
  },
  {
   "cell_type": "code",
   "execution_count": 14,
   "metadata": {},
   "outputs": [],
   "source": [
    "x_insta = ista(A, b, p, steps)"
   ]
  },
  {
   "cell_type": "code",
   "execution_count": 15,
   "metadata": {},
   "outputs": [
    {
     "data": {
      "text/plain": [
       "((0.021199735714927247+0j), (0.018372604937787338+0j))"
      ]
     },
     "execution_count": 15,
     "metadata": {},
     "output_type": "execute_result"
    }
   ],
   "source": [
    "x_insta[0], x_insta[-1]"
   ]
  },
  {
   "cell_type": "code",
   "execution_count": 17,
   "metadata": {},
   "outputs": [
    {
     "data": {
      "text/plain": [
       "array([ 0.02119974+0.j,  0.0133758 +0.j, -0.0729551 +0.j,  0.0230714 +0.j,\n",
       "       -0.00582158+0.j,  0.021529  +0.j, -0.02125262+0.j, -0.00956736+0.j,\n",
       "        0.05482761+0.j,  0.02824944+0.j, -0.02010851+0.j, -0.02024442+0.j,\n",
       "        0.04194333+0.j, -0.01455219+0.j, -0.03362479+0.j,  0.00979955+0.j,\n",
       "        0.00455128+0.j, -0.00142785+0.j, -0.0015842 +0.j, -0.01098673+0.j])"
      ]
     },
     "execution_count": 17,
     "metadata": {},
     "output_type": "execute_result"
    }
   ],
   "source": [
    "x_insta[:20]"
   ]
  },
  {
   "cell_type": "code",
   "execution_count": null,
   "metadata": {},
   "outputs": [],
   "source": []
  }
 ],
 "metadata": {
  "kernelspec": {
   "display_name": "Python 3",
   "language": "python",
   "name": "python3"
  },
  "language_info": {
   "codemirror_mode": {
    "name": "ipython",
    "version": 3
   },
   "file_extension": ".py",
   "mimetype": "text/x-python",
   "name": "python",
   "nbconvert_exporter": "python",
   "pygments_lexer": "ipython3",
   "version": "3.6.5"
  }
 },
 "nbformat": 4,
 "nbformat_minor": 2
}
